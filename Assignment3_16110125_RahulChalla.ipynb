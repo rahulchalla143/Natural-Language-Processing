{
  "nbformat": 4,
  "nbformat_minor": 0,
  "metadata": {
    "colab": {
      "name": "Untitled2.ipynb",
      "provenance": [],
      "collapsed_sections": [],
      "machine_shape": "hm"
    },
    "kernelspec": {
      "name": "python3",
      "display_name": "Python 3"
    },
    "accelerator": "GPU"
  },
  "cells": [
    {
      "cell_type": "code",
      "metadata": {
        "id": "mNtciHW36hK5",
        "colab_type": "code",
        "colab": {}
      },
      "source": [
        "import pandas as pd\n",
        "import io"
      ],
      "execution_count": 0,
      "outputs": []
    },
    {
      "cell_type": "code",
      "metadata": {
        "id": "EsUWp2M16kIp",
        "colab_type": "code",
        "outputId": "6cc40794-74f6-4ad8-f96f-3714c161f8ee",
        "colab": {
          "resources": {
            "http://localhost:8080/nbextensions/google.colab/files.js": {
              "data": "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",
              "ok": true,
              "headers": [
                [
                  "content-type",
                  "application/javascript"
                ]
              ],
              "status": 200,
              "status_text": ""
            }
          },
          "base_uri": "https://localhost:8080/",
          "height": 108
        }
      },
      "source": [
        "from google.colab import files\n",
        "uploaded = files.upload()"
      ],
      "execution_count": 4,
      "outputs": [
        {
          "output_type": "display_data",
          "data": {
            "text/html": [
              "\n",
              "     <input type=\"file\" id=\"files-491fddd6-c41c-4557-8ad9-f37a60e9bc0c\" name=\"files[]\" multiple disabled />\n",
              "     <output id=\"result-491fddd6-c41c-4557-8ad9-f37a60e9bc0c\">\n",
              "      Upload widget is only available when the cell has been executed in the\n",
              "      current browser session. Please rerun this cell to enable.\n",
              "      </output>\n",
              "      <script src=\"/nbextensions/google.colab/files.js\"></script> "
            ],
            "text/plain": [
              "<IPython.core.display.HTML object>"
            ]
          },
          "metadata": {
            "tags": []
          }
        },
        {
          "output_type": "stream",
          "text": [
            "Saving test.txt to test.txt\n",
            "Saving train.txt to train.txt\n"
          ],
          "name": "stdout"
        }
      ]
    },
    {
      "cell_type": "markdown",
      "metadata": {
        "id": "JXoQv1HAeZSm",
        "colab_type": "text"
      },
      "source": [
        "###Train and Test Data"
      ]
    },
    {
      "cell_type": "code",
      "metadata": {
        "colab_type": "code",
        "id": "B2kUGr3HeVvh",
        "colab": {}
      },
      "source": [
        "f = open('train.txt','r',encoding = \"utf8\")\n",
        "traindata = f.readlines()\n",
        "traindata = [i.lower() for i in traindata]\n",
        "f1 = open('test.txt','r',encoding = \"utf8\")\n",
        "testdata = f1.readlines()\n",
        "testdata = [i.lower() for i in testdata]"
      ],
      "execution_count": 0,
      "outputs": []
    },
    {
      "cell_type": "markdown",
      "metadata": {
        "id": "7VsdVeWmehm-",
        "colab_type": "text"
      },
      "source": [
        "### Filtering Metadata"
      ]
    },
    {
      "cell_type": "code",
      "metadata": {
        "colab_type": "code",
        "id": "aTBIclrleVvg",
        "colab": {}
      },
      "source": [
        "metaindices = []\n",
        "for i in range(len(traindata)):\n",
        "  if(\"meta\\t\" in traindata[i]):\n",
        "    metaindices.append(i)"
      ],
      "execution_count": 0,
      "outputs": []
    },
    {
      "cell_type": "code",
      "metadata": {
        "colab_type": "code",
        "outputId": "e21b4e0a-124e-417a-db21-16ece36bda31",
        "id": "Xq6AS3KReVva",
        "colab": {
          "base_uri": "https://localhost:8080/",
          "height": 34
        }
      },
      "source": [
        "len(metaindices)"
      ],
      "execution_count": 0,
      "outputs": [
        {
          "output_type": "execute_result",
          "data": {
            "text/plain": [
              "15131"
            ]
          },
          "metadata": {
            "tags": []
          },
          "execution_count": 4
        }
      ]
    },
    {
      "cell_type": "code",
      "metadata": {
        "colab_type": "code",
        "id": "se758TGpeVvX",
        "colab": {}
      },
      "source": [
        "metatestindices = []\n",
        "for i in range(len(testdata)):\n",
        "  if(\"meta\\t\" in testdata[i]):\n",
        "    metatestindices.append(i)"
      ],
      "execution_count": 0,
      "outputs": []
    },
    {
      "cell_type": "code",
      "metadata": {
        "colab_type": "code",
        "outputId": "548a4ea1-8e30-46af-aba1-64697bfcb37e",
        "id": "mQCbAhKreVvR",
        "colab": {
          "base_uri": "https://localhost:8080/",
          "height": 34
        }
      },
      "source": [
        "len(metatestindices)"
      ],
      "execution_count": 0,
      "outputs": [
        {
          "output_type": "execute_result",
          "data": {
            "text/plain": [
              "1869"
            ]
          },
          "metadata": {
            "tags": []
          },
          "execution_count": 6
        }
      ]
    },
    {
      "cell_type": "markdown",
      "metadata": {
        "id": "kLeB7VnGel1X",
        "colab_type": "text"
      },
      "source": [
        "### Tweets separation"
      ]
    },
    {
      "cell_type": "code",
      "metadata": {
        "colab_type": "code",
        "id": "PM85lEdheVvP",
        "colab": {}
      },
      "source": [
        "testtweets = []\n",
        "strng = \"\"\n",
        "for i in range(1,len(testdata)):\n",
        "  if(testdata[i] == \"\\n\"):\n",
        "    continue\n",
        "  if(i not in metatestindices):\n",
        "    strng = strng + testdata[i][:testdata[i].index(\"\\t\")] + \" \"\n",
        "  else:\n",
        "    strng.strip()\n",
        "    testtweets.append(strng)\n",
        "    strng = \"\"\n",
        "  if(i == len(testdata)-2):\n",
        "    strng.strip()\n",
        "    testtweets.append(strng)\n",
        "    strng = \"\"\n"
      ],
      "execution_count": 0,
      "outputs": []
    },
    {
      "cell_type": "code",
      "metadata": {
        "colab_type": "code",
        "id": "Sb4Uw9OfeVvN",
        "colab": {}
      },
      "source": [
        "traintweets = []\n",
        "strng = \"\"\n",
        "for i in range(1,len(traindata)):\n",
        "  if(traindata[i] == \"\\n\"):\n",
        "    continue\n",
        "  if(i not in metaindices):\n",
        "    strng = strng + traindata[i][:traindata[i].index(\"\\t\")] + \" \"\n",
        "  else:\n",
        "    strng.strip()\n",
        "    traintweets.append(strng)\n",
        "    strng = \"\"\n",
        "  if(i == len(traindata)-2):\n",
        "    strng.strip()\n",
        "    traintweets.append(strng)\n",
        "    strng = \"\""
      ],
      "execution_count": 0,
      "outputs": []
    },
    {
      "cell_type": "code",
      "metadata": {
        "colab_type": "code",
        "outputId": "db9bc521-f7c8-464e-a2f4-1c97dec91b90",
        "id": "8thfahC2eVvF",
        "colab": {
          "base_uri": "https://localhost:8080/",
          "height": 34
        }
      },
      "source": [
        "len(traintweets)"
      ],
      "execution_count": 0,
      "outputs": [
        {
          "output_type": "execute_result",
          "data": {
            "text/plain": [
              "15131"
            ]
          },
          "metadata": {
            "tags": []
          },
          "execution_count": 9
        }
      ]
    },
    {
      "cell_type": "code",
      "metadata": {
        "colab_type": "code",
        "outputId": "90dfa710-2bdb-4766-c979-7dfc04279a91",
        "id": "W_3WjHyKeVu_",
        "colab": {
          "base_uri": "https://localhost:8080/",
          "height": 34
        }
      },
      "source": [
        "len(testtweets)"
      ],
      "execution_count": 0,
      "outputs": [
        {
          "output_type": "execute_result",
          "data": {
            "text/plain": [
              "1869"
            ]
          },
          "metadata": {
            "tags": []
          },
          "execution_count": 10
        }
      ]
    },
    {
      "cell_type": "code",
      "metadata": {
        "colab_type": "code",
        "outputId": "23700c4b-73be-4593-c02c-147131025a55",
        "id": "4awYHt1weVu9",
        "colab": {
          "base_uri": "https://localhost:8080/",
          "height": 34
        }
      },
      "source": [
        "len(traindata)"
      ],
      "execution_count": 0,
      "outputs": [
        {
          "output_type": "execute_result",
          "data": {
            "text/plain": [
              "426280"
            ]
          },
          "metadata": {
            "tags": []
          },
          "execution_count": 11
        }
      ]
    },
    {
      "cell_type": "markdown",
      "metadata": {
        "id": "WJ5nAtDoeyDI",
        "colab_type": "text"
      },
      "source": [
        "### Vocabulary size"
      ]
    },
    {
      "cell_type": "code",
      "metadata": {
        "colab_type": "code",
        "id": "U87rtMqleVu7",
        "colab": {}
      },
      "source": [
        "d = {}\n",
        "index=0\n",
        "max_length=0\n",
        "for i in traintweets:\n",
        "  max_length = max(max_length, len(i.split(' ')))\n",
        "  for j in i.split(' '):\n",
        "    if j not in d:\n",
        "      d[j] = index\n",
        "      index+=1\n",
        "# for i in testtweets:\n",
        "#   max_length = max(max_length, len(i.split(' ')))\n",
        "#   for j in i.split(' '):\n",
        "#     if j not in d:\n",
        "#       d[j] = index\n",
        "      #index+=1"
      ],
      "execution_count": 0,
      "outputs": []
    },
    {
      "cell_type": "code",
      "metadata": {
        "colab_type": "code",
        "outputId": "8563200d-b400-4cab-daba-448c231bb319",
        "id": "KpkBtdQUeVu4",
        "colab": {
          "base_uri": "https://localhost:8080/",
          "height": 34
        }
      },
      "source": [
        "import numpy as np\n",
        "!pip install tqdm\n",
        "from tqdm import tqdm"
      ],
      "execution_count": 0,
      "outputs": [
        {
          "output_type": "stream",
          "text": [
            "Requirement already satisfied: tqdm in /usr/local/lib/python3.6/dist-packages (4.28.1)\n"
          ],
          "name": "stdout"
        }
      ]
    },
    {
      "cell_type": "code",
      "metadata": {
        "colab_type": "code",
        "id": "TzSbi6nbeVuu",
        "colab": {}
      },
      "source": [
        "# train_embedding = np.zeros((len(traintweets), len(d)))\n",
        "# test_embedding = np.zeros((len(testtweets), len(d)))\n",
        "\n",
        "# for cnt, i in enumerate(traintweets):\n",
        "#   for j in i.split(' '):\n",
        "#     train_embedding[cnt, d[j]] = 1\n",
        "  \n",
        "# for cnt, i in enumerate(testtweets):\n",
        "#   for j in i.split(' '):\n",
        "#     if j in d:\n",
        "#       test_embedding[cnt, d[j]] = 1"
      ],
      "execution_count": 0,
      "outputs": []
    },
    {
      "cell_type": "code",
      "metadata": {
        "colab_type": "code",
        "id": "-_BQFI9VeVur",
        "colab": {}
      },
      "source": [
        "#len(d)"
      ],
      "execution_count": 0,
      "outputs": []
    },
    {
      "cell_type": "code",
      "metadata": {
        "colab_type": "code",
        "id": "1OO-y4PQeVup",
        "colab": {}
      },
      "source": [
        ""
      ],
      "execution_count": 0,
      "outputs": []
    },
    {
      "cell_type": "code",
      "metadata": {
        "colab_type": "code",
        "outputId": "429a1058-5a3a-4bb3-cdeb-45318e862fe2",
        "id": "KV75iDndeVuo",
        "colab": {
          "base_uri": "https://localhost:8080/",
          "height": 63
        }
      },
      "source": [
        "from tensorflow.python.keras.preprocessing.text import Tokenizer\n",
        "from tensorflow.python.keras.preprocessing.sequence import pad_sequences"
      ],
      "execution_count": 0,
      "outputs": [
        {
          "output_type": "display_data",
          "data": {
            "text/html": [
              "<p style=\"color: red;\">\n",
              "The default version of TensorFlow in Colab will soon switch to TensorFlow 2.x.<br>\n",
              "We recommend you <a href=\"https://www.tensorflow.org/guide/migrate\" target=\"_blank\">upgrade</a> now \n",
              "or ensure your notebook will continue to use TensorFlow 1.x via the <code>%tensorflow_version 1.x</code> magic:\n",
              "<a href=\"https://colab.research.google.com/notebooks/tensorflow_version.ipynb\" target=\"_blank\">more info</a>.</p>\n"
            ],
            "text/plain": [
              "<IPython.core.display.HTML object>"
            ]
          },
          "metadata": {
            "tags": []
          }
        }
      ]
    },
    {
      "cell_type": "markdown",
      "metadata": {
        "colab_type": "text",
        "id": "Qq8UgrASeVun"
      },
      "source": [
        ""
      ]
    },
    {
      "cell_type": "code",
      "metadata": {
        "colab_type": "code",
        "id": "_swPX8S7eVul",
        "colab": {}
      },
      "source": [
        "# tokenizer_obj = Tokenizer()\n",
        "# total_tweets = traintweets+testtweets\n",
        "# tokenizer_obj.fit_on_texts(total_tweets)\n",
        "# train_tokens = tokenizer_obj.texts_to_sequences(traintweets)\n",
        "# test_tokens = tokenizer_obj.texts_to_sequences(testtweets)\n",
        "# trainpad = pad_sequences(train_tokens,maxlen = max_length, padding = \"post\")\n",
        "# testpad = pad_sequences(test_tokens,maxlen = max_length, padding = \"post\")"
      ],
      "execution_count": 0,
      "outputs": []
    },
    {
      "cell_type": "code",
      "metadata": {
        "colab_type": "code",
        "outputId": "eb3d5899-c10c-4ee8-a96e-5cbf05b2edfb",
        "id": "spRc6XD1eVuh",
        "colab": {
          "base_uri": "https://localhost:8080/",
          "height": 34
        }
      },
      "source": [
        "from keras.layers import *\n",
        "from keras.models import *\n",
        "from keras.utils import to_categorical"
      ],
      "execution_count": 0,
      "outputs": [
        {
          "output_type": "stream",
          "text": [
            "Using TensorFlow backend.\n"
          ],
          "name": "stderr"
        }
      ]
    },
    {
      "cell_type": "markdown",
      "metadata": {
        "id": "dHs9f5gje5v-",
        "colab_type": "text"
      },
      "source": [
        "### Train_y and Test_y generation"
      ]
    },
    {
      "cell_type": "code",
      "metadata": {
        "colab_type": "code",
        "id": "KnoR9ngjeVug",
        "colab": {}
      },
      "source": [
        "labels = []\n",
        "for i in metaindices:\n",
        "  label = traindata[i].split(\"\\t\")[-1][:-1]\n",
        "  if label=='positive':\n",
        "    labels.append(0)\n",
        "  elif label=='negative':\n",
        "    labels.append(1)\n",
        "  else:\n",
        "    labels.append(2)\n",
        "\n",
        "train_y = to_categorical(labels, num_classes=3)\n"
      ],
      "execution_count": 0,
      "outputs": []
    },
    {
      "cell_type": "code",
      "metadata": {
        "colab_type": "code",
        "id": "Z6CW2kd5eVuc",
        "colab": {}
      },
      "source": [
        "labels = []\n",
        "for i in metatestindices:\n",
        "  label = testdata[i].split(\"\\t\")[-1][:-1]\n",
        "  if label=='positive':\n",
        "    labels.append(0)\n",
        "  elif label=='negative':\n",
        "    labels.append(1)\n",
        "  else:\n",
        "    labels.append(2)\n",
        "test_y = to_categorical(labels, num_classes=3)\n"
      ],
      "execution_count": 0,
      "outputs": []
    },
    {
      "cell_type": "code",
      "metadata": {
        "colab_type": "code",
        "outputId": "3e5c5202-9ed1-4717-a752-3bd1898db8e3",
        "id": "4w51EHWqeVuY",
        "colab": {
          "base_uri": "https://localhost:8080/",
          "height": 34
        }
      },
      "source": [
        "train_y.shape,test_y.shape"
      ],
      "execution_count": 0,
      "outputs": [
        {
          "output_type": "execute_result",
          "data": {
            "text/plain": [
              "((15131, 3), (1869, 3))"
            ]
          },
          "metadata": {
            "tags": []
          },
          "execution_count": 21
        }
      ]
    },
    {
      "cell_type": "code",
      "metadata": {
        "colab_type": "code",
        "id": "QWDEXAtReVuV",
        "colab": {}
      },
      "source": [
        "#[traindata[i].split(\"\\t\")[-1][:-1] for i in metaindices]"
      ],
      "execution_count": 0,
      "outputs": []
    },
    {
      "cell_type": "markdown",
      "metadata": {
        "id": "2dIXKc41fAHB",
        "colab_type": "text"
      },
      "source": [
        "### TfIdf Vectorization"
      ]
    },
    {
      "cell_type": "code",
      "metadata": {
        "colab_type": "code",
        "id": "ZNGHkVpueVuQ",
        "colab": {}
      },
      "source": [
        "from sklearn.feature_extraction.text import TfidfVectorizer\n",
        "vectorizer = TfidfVectorizer()\n",
        "X = vectorizer.fit_transform(traintweets+testtweets)"
      ],
      "execution_count": 0,
      "outputs": []
    },
    {
      "cell_type": "code",
      "metadata": {
        "colab_type": "code",
        "id": "q9qkeEhTeVuO",
        "colab": {}
      },
      "source": [
        "train_embedding = vectorizer.transform(traintweets)\n",
        "test_embedding = vectorizer.transform(testtweets)"
      ],
      "execution_count": 0,
      "outputs": []
    },
    {
      "cell_type": "code",
      "metadata": {
        "colab_type": "code",
        "id": "csDkgPpDeVuJ",
        "colab": {}
      },
      "source": [
        "train_embedding = train_embedding.toarray()\n",
        "test_embedding = test_embedding.toarray()"
      ],
      "execution_count": 0,
      "outputs": []
    },
    {
      "cell_type": "markdown",
      "metadata": {
        "id": "Z5MpHyKGfFG7",
        "colab_type": "text"
      },
      "source": [
        "### Dimensional Reduction"
      ]
    },
    {
      "cell_type": "code",
      "metadata": {
        "colab_type": "code",
        "id": "Fic6JOXNeVuG",
        "colab": {}
      },
      "source": [
        "\n",
        "from sklearn.decomposition import TruncatedSVD\n",
        "from sklearn.metrics import precision_recall_fscore_support"
      ],
      "execution_count": 0,
      "outputs": []
    },
    {
      "cell_type": "code",
      "metadata": {
        "colab_type": "code",
        "id": "EkUTafGweVuD",
        "colab": {}
      },
      "source": [
        "reducer = TruncatedSVD(n_components=200)\n",
        "train_embedding_ = reducer.fit_transform(train_embedding)"
      ],
      "execution_count": 0,
      "outputs": []
    },
    {
      "cell_type": "code",
      "metadata": {
        "colab_type": "code",
        "id": "Si-Bk6nCeVt_",
        "colab": {}
      },
      "source": [
        "test_embedding_ = reducer.transform(test_embedding)"
      ],
      "execution_count": 0,
      "outputs": []
    },
    {
      "cell_type": "code",
      "metadata": {
        "colab_type": "code",
        "outputId": "e586b7c8-370d-44a5-c325-eac1d670c3d3",
        "id": "VTcvL0ADeVt5",
        "colab": {
          "base_uri": "https://localhost:8080/",
          "height": 34
        }
      },
      "source": [
        "train_embedding_.shape,test_embedding_.shape"
      ],
      "execution_count": 0,
      "outputs": [
        {
          "output_type": "execute_result",
          "data": {
            "text/plain": [
              "((15131, 200), (1869, 200))"
            ]
          },
          "metadata": {
            "tags": []
          },
          "execution_count": 30
        }
      ]
    },
    {
      "cell_type": "markdown",
      "metadata": {
        "id": "6Qt6BIDYfNyv",
        "colab_type": "text"
      },
      "source": [
        "### Deep Neural Network"
      ]
    },
    {
      "cell_type": "code",
      "metadata": {
        "id": "IpxwR1Q4i5gJ",
        "colab_type": "code",
        "colab": {}
      },
      "source": [
        "from keras.callbacks import *"
      ],
      "execution_count": 0,
      "outputs": []
    },
    {
      "cell_type": "code",
      "metadata": {
        "colab_type": "code",
        "id": "3xMFzQTueVt1",
        "colab": {}
      },
      "source": [
        "model = Sequential()\n",
        "model.add(Dense(64, input_shape=(train_embedding.shape[1],)))\n",
        "model.add(Activation('relu'))\n",
        "model.add(Dropout(.1))\n",
        "model.add(Dense(16, activation='relu'))\n",
        "model.add(Dropout(.1))\n",
        "model.add(Dense(3,activation='softmax'))\n",
        "filepath=\"weights.hdf5\"\n",
        "checkpoint = ModelCheckpoint(filepath, monitor='val_acc', verbose=1, save_best_only=True, mode='max')\n",
        "callbacks_list = [checkpoint]\n",
        "model.compile(loss='categorical_crossentropy',optimizer='adam',metrics=['accuracy'])"
      ],
      "execution_count": 0,
      "outputs": []
    },
    {
      "cell_type": "code",
      "metadata": {
        "colab_type": "code",
        "outputId": "3b6b8b2d-ecca-4111-e240-232a6129501a",
        "id": "qBcJFRFZeVtz",
        "colab": {
          "base_uri": "https://localhost:8080/",
          "height": 34
        }
      },
      "source": [
        "np.argmax(train_y,axis=1)"
      ],
      "execution_count": 97,
      "outputs": [
        {
          "output_type": "execute_result",
          "data": {
            "text/plain": [
              "array([1, 1, 0, ..., 1, 1, 1])"
            ]
          },
          "metadata": {
            "tags": []
          },
          "execution_count": 97
        }
      ]
    },
    {
      "cell_type": "code",
      "metadata": {
        "colab_type": "code",
        "outputId": "ffd6970b-ff5a-4f6c-c038-b9fa77464449",
        "id": "VTUOYfjYeVtx",
        "colab": {
          "base_uri": "https://localhost:8080/",
          "height": 372
        }
      },
      "source": [
        "model.summary()"
      ],
      "execution_count": 98,
      "outputs": [
        {
          "output_type": "stream",
          "text": [
            "Model: \"sequential_9\"\n",
            "_________________________________________________________________\n",
            "Layer (type)                 Output Shape              Param #   \n",
            "=================================================================\n",
            "dense_23 (Dense)             (None, 64)                3507264   \n",
            "_________________________________________________________________\n",
            "activation_8 (Activation)    (None, 64)                0         \n",
            "_________________________________________________________________\n",
            "dropout_15 (Dropout)         (None, 64)                0         \n",
            "_________________________________________________________________\n",
            "dense_24 (Dense)             (None, 16)                1040      \n",
            "_________________________________________________________________\n",
            "dropout_16 (Dropout)         (None, 16)                0         \n",
            "_________________________________________________________________\n",
            "dense_25 (Dense)             (None, 3)                 51        \n",
            "=================================================================\n",
            "Total params: 3,508,355\n",
            "Trainable params: 3,508,355\n",
            "Non-trainable params: 0\n",
            "_________________________________________________________________\n"
          ],
          "name": "stdout"
        }
      ]
    },
    {
      "cell_type": "code",
      "metadata": {
        "colab_type": "code",
        "outputId": "994129a9-8bb7-4a90-eeb5-700e3d9130b0",
        "id": "jGpg0ypUeVtr",
        "colab": {
          "base_uri": "https://localhost:8080/",
          "height": 1000
        }
      },
      "source": [
        "model.fit(train_embedding, train_y, batch_size=1024,epochs=200,validation_data=(test_embedding, test_y),callbacks=callbacks_list)"
      ],
      "execution_count": 103,
      "outputs": [
        {
          "output_type": "stream",
          "text": [
            "Train on 15131 samples, validate on 1869 samples\n",
            "Epoch 1/200\n",
            "15131/15131 [==============================] - 4s 285us/step - loss: 0.4252 - acc: 0.9036 - val_loss: 0.9388 - val_acc: 0.5554\n",
            "\n",
            "Epoch 00001: val_acc did not improve from 0.56073\n",
            "Epoch 2/200\n",
            "15131/15131 [==============================] - 4s 278us/step - loss: 0.3439 - acc: 0.9270 - val_loss: 0.9635 - val_acc: 0.5495\n",
            "\n",
            "Epoch 00002: val_acc did not improve from 0.56073\n",
            "Epoch 3/200\n",
            "15131/15131 [==============================] - 4s 278us/step - loss: 0.2677 - acc: 0.9492 - val_loss: 0.9970 - val_acc: 0.5425\n",
            "\n",
            "Epoch 00003: val_acc did not improve from 0.56073\n",
            "Epoch 4/200\n",
            "15131/15131 [==============================] - 4s 279us/step - loss: 0.2094 - acc: 0.9609 - val_loss: 1.0329 - val_acc: 0.5399\n",
            "\n",
            "Epoch 00004: val_acc did not improve from 0.56073\n",
            "Epoch 5/200\n",
            "15131/15131 [==============================] - 4s 277us/step - loss: 0.1654 - acc: 0.9718 - val_loss: 1.0779 - val_acc: 0.5361\n",
            "\n",
            "Epoch 00005: val_acc did not improve from 0.56073\n",
            "Epoch 6/200\n",
            "15131/15131 [==============================] - 4s 278us/step - loss: 0.1321 - acc: 0.9780 - val_loss: 1.1147 - val_acc: 0.5334\n",
            "\n",
            "Epoch 00006: val_acc did not improve from 0.56073\n",
            "Epoch 7/200\n",
            "15131/15131 [==============================] - 4s 280us/step - loss: 0.1081 - acc: 0.9819 - val_loss: 1.1528 - val_acc: 0.5292\n",
            "\n",
            "Epoch 00007: val_acc did not improve from 0.56073\n",
            "Epoch 8/200\n",
            "15131/15131 [==============================] - 4s 277us/step - loss: 0.0894 - acc: 0.9860 - val_loss: 1.1896 - val_acc: 0.5233\n",
            "\n",
            "Epoch 00008: val_acc did not improve from 0.56073\n",
            "Epoch 9/200\n",
            "15131/15131 [==============================] - 4s 277us/step - loss: 0.0766 - acc: 0.9876 - val_loss: 1.2268 - val_acc: 0.5195\n",
            "\n",
            "Epoch 00009: val_acc did not improve from 0.56073\n",
            "Epoch 10/200\n",
            "15131/15131 [==============================] - 4s 277us/step - loss: 0.0655 - acc: 0.9879 - val_loss: 1.2626 - val_acc: 0.5190\n",
            "\n",
            "Epoch 00010: val_acc did not improve from 0.56073\n",
            "Epoch 11/200\n",
            "15131/15131 [==============================] - 4s 277us/step - loss: 0.0573 - acc: 0.9898 - val_loss: 1.2989 - val_acc: 0.5195\n",
            "\n",
            "Epoch 00011: val_acc did not improve from 0.56073\n",
            "Epoch 12/200\n",
            "15131/15131 [==============================] - 4s 277us/step - loss: 0.0511 - acc: 0.9896 - val_loss: 1.3338 - val_acc: 0.5147\n",
            "\n",
            "Epoch 00012: val_acc did not improve from 0.56073\n",
            "Epoch 13/200\n",
            "15131/15131 [==============================] - 4s 278us/step - loss: 0.0449 - acc: 0.9904 - val_loss: 1.3691 - val_acc: 0.5158\n",
            "\n",
            "Epoch 00013: val_acc did not improve from 0.56073\n",
            "Epoch 14/200\n",
            "15131/15131 [==============================] - 4s 279us/step - loss: 0.0414 - acc: 0.9907 - val_loss: 1.4009 - val_acc: 0.5174\n",
            "\n",
            "Epoch 00014: val_acc did not improve from 0.56073\n",
            "Epoch 15/200\n",
            "15131/15131 [==============================] - 4s 277us/step - loss: 0.0354 - acc: 0.9917 - val_loss: 1.4308 - val_acc: 0.5169\n",
            "\n",
            "Epoch 00015: val_acc did not improve from 0.56073\n",
            "Epoch 16/200\n",
            "15131/15131 [==============================] - 4s 278us/step - loss: 0.0325 - acc: 0.9917 - val_loss: 1.4641 - val_acc: 0.5174\n",
            "\n",
            "Epoch 00016: val_acc did not improve from 0.56073\n",
            "Epoch 17/200\n",
            "15131/15131 [==============================] - 4s 279us/step - loss: 0.0312 - acc: 0.9915 - val_loss: 1.4929 - val_acc: 0.5190\n",
            "\n",
            "Epoch 00017: val_acc did not improve from 0.56073\n",
            "Epoch 18/200\n",
            "15131/15131 [==============================] - 4s 277us/step - loss: 0.0290 - acc: 0.9923 - val_loss: 1.5195 - val_acc: 0.5179\n",
            "\n",
            "Epoch 00018: val_acc did not improve from 0.56073\n",
            "Epoch 19/200\n",
            "15131/15131 [==============================] - 4s 277us/step - loss: 0.0257 - acc: 0.9932 - val_loss: 1.5502 - val_acc: 0.5163\n",
            "\n",
            "Epoch 00019: val_acc did not improve from 0.56073\n",
            "Epoch 20/200\n",
            " 4096/15131 [=======>......................] - ETA: 2s - loss: 0.0261 - acc: 0.9929"
          ],
          "name": "stdout"
        },
        {
          "output_type": "error",
          "ename": "KeyboardInterrupt",
          "evalue": "ignored",
          "traceback": [
            "\u001b[0;31m---------------------------------------------------------------------------\u001b[0m",
            "\u001b[0;31mKeyboardInterrupt\u001b[0m                         Traceback (most recent call last)",
            "\u001b[0;32m<ipython-input-103-00a9205923df>\u001b[0m in \u001b[0;36m<module>\u001b[0;34m()\u001b[0m\n\u001b[0;32m----> 1\u001b[0;31m \u001b[0mmodel\u001b[0m\u001b[0;34m.\u001b[0m\u001b[0mfit\u001b[0m\u001b[0;34m(\u001b[0m\u001b[0mtrain_embedding\u001b[0m\u001b[0;34m,\u001b[0m \u001b[0mtrain_y\u001b[0m\u001b[0;34m,\u001b[0m \u001b[0mbatch_size\u001b[0m\u001b[0;34m=\u001b[0m\u001b[0;36m1024\u001b[0m\u001b[0;34m,\u001b[0m\u001b[0mepochs\u001b[0m\u001b[0;34m=\u001b[0m\u001b[0;36m200\u001b[0m\u001b[0;34m,\u001b[0m\u001b[0mvalidation_data\u001b[0m\u001b[0;34m=\u001b[0m\u001b[0;34m(\u001b[0m\u001b[0mtest_embedding\u001b[0m\u001b[0;34m,\u001b[0m \u001b[0mtest_y\u001b[0m\u001b[0;34m)\u001b[0m\u001b[0;34m,\u001b[0m\u001b[0mcallbacks\u001b[0m\u001b[0;34m=\u001b[0m\u001b[0mcallbacks_list\u001b[0m\u001b[0;34m)\u001b[0m\u001b[0;34m\u001b[0m\u001b[0;34m\u001b[0m\u001b[0m\n\u001b[0m",
            "\u001b[0;32m/usr/local/lib/python3.6/dist-packages/keras/engine/training.py\u001b[0m in \u001b[0;36mfit\u001b[0;34m(self, x, y, batch_size, epochs, verbose, callbacks, validation_split, validation_data, shuffle, class_weight, sample_weight, initial_epoch, steps_per_epoch, validation_steps, validation_freq, max_queue_size, workers, use_multiprocessing, **kwargs)\u001b[0m\n\u001b[1;32m   1176\u001b[0m                                         \u001b[0msteps_per_epoch\u001b[0m\u001b[0;34m=\u001b[0m\u001b[0msteps_per_epoch\u001b[0m\u001b[0;34m,\u001b[0m\u001b[0;34m\u001b[0m\u001b[0;34m\u001b[0m\u001b[0m\n\u001b[1;32m   1177\u001b[0m                                         \u001b[0mvalidation_steps\u001b[0m\u001b[0;34m=\u001b[0m\u001b[0mvalidation_steps\u001b[0m\u001b[0;34m,\u001b[0m\u001b[0;34m\u001b[0m\u001b[0;34m\u001b[0m\u001b[0m\n\u001b[0;32m-> 1178\u001b[0;31m                                         validation_freq=validation_freq)\n\u001b[0m\u001b[1;32m   1179\u001b[0m \u001b[0;34m\u001b[0m\u001b[0m\n\u001b[1;32m   1180\u001b[0m     def evaluate(self,\n",
            "\u001b[0;32m/usr/local/lib/python3.6/dist-packages/keras/engine/training_arrays.py\u001b[0m in \u001b[0;36mfit_loop\u001b[0;34m(model, fit_function, fit_inputs, out_labels, batch_size, epochs, verbose, callbacks, val_function, val_inputs, shuffle, callback_metrics, initial_epoch, steps_per_epoch, validation_steps, validation_freq)\u001b[0m\n\u001b[1;32m    190\u001b[0m                         \u001b[0;31m# Do not slice the training phase flag.\u001b[0m\u001b[0;34m\u001b[0m\u001b[0;34m\u001b[0m\u001b[0;34m\u001b[0m\u001b[0m\n\u001b[1;32m    191\u001b[0m                         ins_batch = slice_arrays(\n\u001b[0;32m--> 192\u001b[0;31m                             fit_inputs[:-1], batch_ids) + [fit_inputs[-1]]\n\u001b[0m\u001b[1;32m    193\u001b[0m                     \u001b[0;32melse\u001b[0m\u001b[0;34m:\u001b[0m\u001b[0;34m\u001b[0m\u001b[0;34m\u001b[0m\u001b[0m\n\u001b[1;32m    194\u001b[0m                         \u001b[0mins_batch\u001b[0m \u001b[0;34m=\u001b[0m \u001b[0mslice_arrays\u001b[0m\u001b[0;34m(\u001b[0m\u001b[0mfit_inputs\u001b[0m\u001b[0;34m,\u001b[0m \u001b[0mbatch_ids\u001b[0m\u001b[0;34m)\u001b[0m\u001b[0;34m\u001b[0m\u001b[0;34m\u001b[0m\u001b[0m\n",
            "\u001b[0;32m/usr/local/lib/python3.6/dist-packages/keras/utils/generic_utils.py\u001b[0m in \u001b[0;36mslice_arrays\u001b[0;34m(arrays, start, stop)\u001b[0m\n\u001b[1;32m    553\u001b[0m             \u001b[0;32mif\u001b[0m \u001b[0mhasattr\u001b[0m\u001b[0;34m(\u001b[0m\u001b[0mstart\u001b[0m\u001b[0;34m,\u001b[0m \u001b[0;34m'shape'\u001b[0m\u001b[0;34m)\u001b[0m\u001b[0;34m:\u001b[0m\u001b[0;34m\u001b[0m\u001b[0;34m\u001b[0m\u001b[0m\n\u001b[1;32m    554\u001b[0m                 \u001b[0mstart\u001b[0m \u001b[0;34m=\u001b[0m \u001b[0mstart\u001b[0m\u001b[0;34m.\u001b[0m\u001b[0mtolist\u001b[0m\u001b[0;34m(\u001b[0m\u001b[0;34m)\u001b[0m\u001b[0;34m\u001b[0m\u001b[0;34m\u001b[0m\u001b[0m\n\u001b[0;32m--> 555\u001b[0;31m             \u001b[0;32mreturn\u001b[0m \u001b[0;34m[\u001b[0m\u001b[0;32mNone\u001b[0m \u001b[0;32mif\u001b[0m \u001b[0mx\u001b[0m \u001b[0;32mis\u001b[0m \u001b[0;32mNone\u001b[0m \u001b[0;32melse\u001b[0m \u001b[0mx\u001b[0m\u001b[0;34m[\u001b[0m\u001b[0mstart\u001b[0m\u001b[0;34m]\u001b[0m \u001b[0;32mfor\u001b[0m \u001b[0mx\u001b[0m \u001b[0;32min\u001b[0m \u001b[0marrays\u001b[0m\u001b[0;34m]\u001b[0m\u001b[0;34m\u001b[0m\u001b[0;34m\u001b[0m\u001b[0m\n\u001b[0m\u001b[1;32m    556\u001b[0m         \u001b[0;32melse\u001b[0m\u001b[0;34m:\u001b[0m\u001b[0;34m\u001b[0m\u001b[0;34m\u001b[0m\u001b[0m\n\u001b[1;32m    557\u001b[0m             \u001b[0;32mreturn\u001b[0m \u001b[0;34m[\u001b[0m\u001b[0;32mNone\u001b[0m \u001b[0;32mif\u001b[0m \u001b[0mx\u001b[0m \u001b[0;32mis\u001b[0m \u001b[0;32mNone\u001b[0m \u001b[0;32melse\u001b[0m \u001b[0mx\u001b[0m\u001b[0;34m[\u001b[0m\u001b[0mstart\u001b[0m\u001b[0;34m:\u001b[0m\u001b[0mstop\u001b[0m\u001b[0;34m]\u001b[0m \u001b[0;32mfor\u001b[0m \u001b[0mx\u001b[0m \u001b[0;32min\u001b[0m \u001b[0marrays\u001b[0m\u001b[0;34m]\u001b[0m\u001b[0;34m\u001b[0m\u001b[0;34m\u001b[0m\u001b[0m\n",
            "\u001b[0;32m/usr/local/lib/python3.6/dist-packages/keras/utils/generic_utils.py\u001b[0m in \u001b[0;36m<listcomp>\u001b[0;34m(.0)\u001b[0m\n\u001b[1;32m    553\u001b[0m             \u001b[0;32mif\u001b[0m \u001b[0mhasattr\u001b[0m\u001b[0;34m(\u001b[0m\u001b[0mstart\u001b[0m\u001b[0;34m,\u001b[0m \u001b[0;34m'shape'\u001b[0m\u001b[0;34m)\u001b[0m\u001b[0;34m:\u001b[0m\u001b[0;34m\u001b[0m\u001b[0;34m\u001b[0m\u001b[0m\n\u001b[1;32m    554\u001b[0m                 \u001b[0mstart\u001b[0m \u001b[0;34m=\u001b[0m \u001b[0mstart\u001b[0m\u001b[0;34m.\u001b[0m\u001b[0mtolist\u001b[0m\u001b[0;34m(\u001b[0m\u001b[0;34m)\u001b[0m\u001b[0;34m\u001b[0m\u001b[0;34m\u001b[0m\u001b[0m\n\u001b[0;32m--> 555\u001b[0;31m             \u001b[0;32mreturn\u001b[0m \u001b[0;34m[\u001b[0m\u001b[0;32mNone\u001b[0m \u001b[0;32mif\u001b[0m \u001b[0mx\u001b[0m \u001b[0;32mis\u001b[0m \u001b[0;32mNone\u001b[0m \u001b[0;32melse\u001b[0m \u001b[0mx\u001b[0m\u001b[0;34m[\u001b[0m\u001b[0mstart\u001b[0m\u001b[0;34m]\u001b[0m \u001b[0;32mfor\u001b[0m \u001b[0mx\u001b[0m \u001b[0;32min\u001b[0m \u001b[0marrays\u001b[0m\u001b[0;34m]\u001b[0m\u001b[0;34m\u001b[0m\u001b[0;34m\u001b[0m\u001b[0m\n\u001b[0m\u001b[1;32m    556\u001b[0m         \u001b[0;32melse\u001b[0m\u001b[0;34m:\u001b[0m\u001b[0;34m\u001b[0m\u001b[0;34m\u001b[0m\u001b[0m\n\u001b[1;32m    557\u001b[0m             \u001b[0;32mreturn\u001b[0m \u001b[0;34m[\u001b[0m\u001b[0;32mNone\u001b[0m \u001b[0;32mif\u001b[0m \u001b[0mx\u001b[0m \u001b[0;32mis\u001b[0m \u001b[0;32mNone\u001b[0m \u001b[0;32melse\u001b[0m \u001b[0mx\u001b[0m\u001b[0;34m[\u001b[0m\u001b[0mstart\u001b[0m\u001b[0;34m:\u001b[0m\u001b[0mstop\u001b[0m\u001b[0;34m]\u001b[0m \u001b[0;32mfor\u001b[0m \u001b[0mx\u001b[0m \u001b[0;32min\u001b[0m \u001b[0marrays\u001b[0m\u001b[0;34m]\u001b[0m\u001b[0;34m\u001b[0m\u001b[0;34m\u001b[0m\u001b[0m\n",
            "\u001b[0;31mKeyboardInterrupt\u001b[0m: "
          ]
        }
      ]
    },
    {
      "cell_type": "code",
      "metadata": {
        "id": "dC5G7sf7jeLy",
        "colab_type": "code",
        "colab": {}
      },
      "source": [
        "model.load_weights(filepath)"
      ],
      "execution_count": 0,
      "outputs": []
    },
    {
      "cell_type": "code",
      "metadata": {
        "colab_type": "code",
        "id": "jHCQQSr_eVtn",
        "colab": {
          "base_uri": "https://localhost:8080/",
          "height": 34
        },
        "outputId": "467ec7a4-e768-474a-c59c-811132c79a57"
      },
      "source": [
        "test_predictions = model.predict(test_embedding)\n",
        "precision_recall_fscore_support(np.argmax(test_y,axis = 1),np.argmax(test_predictions,axis = 1),average='macro')"
      ],
      "execution_count": 102,
      "outputs": [
        {
          "output_type": "execute_result",
          "data": {
            "text/plain": [
              "(0.5665106569867407, 0.5621714780411771, 0.5641001471644823, None)"
            ]
          },
          "metadata": {
            "tags": []
          },
          "execution_count": 102
        }
      ]
    },
    {
      "cell_type": "code",
      "metadata": {
        "id": "rDXq9GLpgVhK",
        "colab_type": "code",
        "colab": {}
      },
      "source": [
        "model = Sequential()\n",
        "model.add(Dense(64, input_shape=(train_embedding_.shape[1],)))\n",
        "model.add(Activation('relu'))\n",
        "model.add(Dropout(.1))\n",
        "model.add(Dense(16, activation='relu'))\n",
        "model.add(Dropout(.1))\n",
        "model.add(Dense(3,activation='softmax'))\n",
        "filepath=\"weights.hdf5\"\n",
        "checkpoint = ModelCheckpoint(filepath, monitor='val_acc', verbose=1, save_best_only=True, mode='max')\n",
        "callbacks_list = [checkpoint]\n",
        "model.compile(loss='categorical_crossentropy',optimizer='adam',metrics=['accuracy'])"
      ],
      "execution_count": 0,
      "outputs": []
    },
    {
      "cell_type": "code",
      "metadata": {
        "id": "hPsiIuTFkOf2",
        "colab_type": "code",
        "colab": {
          "base_uri": "https://localhost:8080/",
          "height": 1000
        },
        "outputId": "4b457f26-41cc-4fc6-b99e-8ad75fccb168"
      },
      "source": [
        "model.fit(train_embedding_, train_y, batch_size=1024,epochs=200,validation_data=(test_embedding_, test_y),callbacks=callbacks_list)"
      ],
      "execution_count": 105,
      "outputs": [
        {
          "output_type": "stream",
          "text": [
            "Train on 15131 samples, validate on 1869 samples\n",
            "Epoch 1/200\n",
            "15131/15131 [==============================] - 1s 49us/step - loss: 1.0956 - acc: 0.3641 - val_loss: 1.0883 - val_acc: 0.4045\n",
            "\n",
            "Epoch 00001: val_acc improved from -inf to 0.40449, saving model to weights.hdf5\n",
            "Epoch 2/200\n",
            "15131/15131 [==============================] - 0s 6us/step - loss: 1.0865 - acc: 0.3759 - val_loss: 1.0788 - val_acc: 0.4066\n",
            "\n",
            "Epoch 00002: val_acc improved from 0.40449 to 0.40663, saving model to weights.hdf5\n",
            "Epoch 3/200\n",
            "15131/15131 [==============================] - 0s 6us/step - loss: 1.0746 - acc: 0.4038 - val_loss: 1.0674 - val_acc: 0.4468\n",
            "\n",
            "Epoch 00003: val_acc improved from 0.40663 to 0.44676, saving model to weights.hdf5\n",
            "Epoch 4/200\n",
            "15131/15131 [==============================] - 0s 6us/step - loss: 1.0560 - acc: 0.4595 - val_loss: 1.0493 - val_acc: 0.4799\n",
            "\n",
            "Epoch 00004: val_acc improved from 0.44676 to 0.47994, saving model to weights.hdf5\n",
            "Epoch 5/200\n",
            "15131/15131 [==============================] - 0s 6us/step - loss: 1.0265 - acc: 0.5257 - val_loss: 1.0239 - val_acc: 0.5056\n",
            "\n",
            "Epoch 00005: val_acc improved from 0.47994 to 0.50562, saving model to weights.hdf5\n",
            "Epoch 6/200\n",
            "15131/15131 [==============================] - 0s 7us/step - loss: 0.9886 - acc: 0.5591 - val_loss: 0.9972 - val_acc: 0.5506\n",
            "\n",
            "Epoch 00006: val_acc improved from 0.50562 to 0.55056, saving model to weights.hdf5\n",
            "Epoch 7/200\n",
            "15131/15131 [==============================] - 0s 6us/step - loss: 0.9453 - acc: 0.5844 - val_loss: 0.9675 - val_acc: 0.5532\n",
            "\n",
            "Epoch 00007: val_acc improved from 0.55056 to 0.55324, saving model to weights.hdf5\n",
            "Epoch 8/200\n",
            "15131/15131 [==============================] - 0s 6us/step - loss: 0.9065 - acc: 0.5924 - val_loss: 0.9496 - val_acc: 0.5500\n",
            "\n",
            "Epoch 00008: val_acc did not improve from 0.55324\n",
            "Epoch 9/200\n",
            "15131/15131 [==============================] - 0s 6us/step - loss: 0.8768 - acc: 0.6005 - val_loss: 0.9393 - val_acc: 0.5399\n",
            "\n",
            "Epoch 00009: val_acc did not improve from 0.55324\n",
            "Epoch 10/200\n",
            "15131/15131 [==============================] - 0s 6us/step - loss: 0.8554 - acc: 0.6024 - val_loss: 0.9374 - val_acc: 0.5447\n",
            "\n",
            "Epoch 00010: val_acc did not improve from 0.55324\n",
            "Epoch 11/200\n",
            "15131/15131 [==============================] - 0s 6us/step - loss: 0.8500 - acc: 0.6027 - val_loss: 0.9407 - val_acc: 0.5447\n",
            "\n",
            "Epoch 00011: val_acc did not improve from 0.55324\n",
            "Epoch 12/200\n",
            "15131/15131 [==============================] - 0s 6us/step - loss: 0.8427 - acc: 0.6060 - val_loss: 0.9413 - val_acc: 0.5484\n",
            "\n",
            "Epoch 00012: val_acc did not improve from 0.55324\n",
            "Epoch 13/200\n",
            "15131/15131 [==============================] - 0s 6us/step - loss: 0.8366 - acc: 0.6070 - val_loss: 0.9463 - val_acc: 0.5345\n",
            "\n",
            "Epoch 00013: val_acc did not improve from 0.55324\n",
            "Epoch 14/200\n",
            "15131/15131 [==============================] - 0s 7us/step - loss: 0.8332 - acc: 0.6129 - val_loss: 0.9442 - val_acc: 0.5474\n",
            "\n",
            "Epoch 00014: val_acc did not improve from 0.55324\n",
            "Epoch 15/200\n",
            "15131/15131 [==============================] - 0s 6us/step - loss: 0.8280 - acc: 0.6171 - val_loss: 0.9466 - val_acc: 0.5393\n",
            "\n",
            "Epoch 00015: val_acc did not improve from 0.55324\n",
            "Epoch 16/200\n",
            "15131/15131 [==============================] - 0s 6us/step - loss: 0.8295 - acc: 0.6090 - val_loss: 0.9486 - val_acc: 0.5425\n",
            "\n",
            "Epoch 00016: val_acc did not improve from 0.55324\n",
            "Epoch 17/200\n",
            "15131/15131 [==============================] - 0s 6us/step - loss: 0.8253 - acc: 0.6150 - val_loss: 0.9480 - val_acc: 0.5468\n",
            "\n",
            "Epoch 00017: val_acc did not improve from 0.55324\n",
            "Epoch 18/200\n",
            "15131/15131 [==============================] - 0s 6us/step - loss: 0.8215 - acc: 0.6214 - val_loss: 0.9480 - val_acc: 0.5415\n",
            "\n",
            "Epoch 00018: val_acc did not improve from 0.55324\n",
            "Epoch 19/200\n",
            "15131/15131 [==============================] - 0s 6us/step - loss: 0.8226 - acc: 0.6174 - val_loss: 0.9499 - val_acc: 0.5399\n",
            "\n",
            "Epoch 00019: val_acc did not improve from 0.55324\n",
            "Epoch 20/200\n",
            "15131/15131 [==============================] - 0s 6us/step - loss: 0.8224 - acc: 0.6159 - val_loss: 0.9515 - val_acc: 0.5447\n",
            "\n",
            "Epoch 00020: val_acc did not improve from 0.55324\n",
            "Epoch 21/200\n",
            "15131/15131 [==============================] - 0s 6us/step - loss: 0.8185 - acc: 0.6233 - val_loss: 0.9499 - val_acc: 0.5463\n",
            "\n",
            "Epoch 00021: val_acc did not improve from 0.55324\n",
            "Epoch 22/200\n",
            "15131/15131 [==============================] - 0s 6us/step - loss: 0.8182 - acc: 0.6174 - val_loss: 0.9514 - val_acc: 0.5436\n",
            "\n",
            "Epoch 00022: val_acc did not improve from 0.55324\n",
            "Epoch 23/200\n",
            "15131/15131 [==============================] - 0s 6us/step - loss: 0.8140 - acc: 0.6255 - val_loss: 0.9517 - val_acc: 0.5452\n",
            "\n",
            "Epoch 00023: val_acc did not improve from 0.55324\n",
            "Epoch 24/200\n",
            "15131/15131 [==============================] - 0s 6us/step - loss: 0.8122 - acc: 0.6240 - val_loss: 0.9538 - val_acc: 0.5420\n",
            "\n",
            "Epoch 00024: val_acc did not improve from 0.55324\n",
            "Epoch 25/200\n",
            "15131/15131 [==============================] - 0s 6us/step - loss: 0.8091 - acc: 0.6255 - val_loss: 0.9538 - val_acc: 0.5441\n",
            "\n",
            "Epoch 00025: val_acc did not improve from 0.55324\n",
            "Epoch 26/200\n",
            "15131/15131 [==============================] - 0s 6us/step - loss: 0.8088 - acc: 0.6264 - val_loss: 0.9543 - val_acc: 0.5447\n",
            "\n",
            "Epoch 00026: val_acc did not improve from 0.55324\n",
            "Epoch 27/200\n",
            "15131/15131 [==============================] - 0s 7us/step - loss: 0.8058 - acc: 0.6249 - val_loss: 0.9554 - val_acc: 0.5457\n",
            "\n",
            "Epoch 00027: val_acc did not improve from 0.55324\n",
            "Epoch 28/200\n",
            "15131/15131 [==============================] - 0s 6us/step - loss: 0.8032 - acc: 0.6263 - val_loss: 0.9571 - val_acc: 0.5436\n",
            "\n",
            "Epoch 00028: val_acc did not improve from 0.55324\n",
            "Epoch 29/200\n",
            "15131/15131 [==============================] - 0s 6us/step - loss: 0.8041 - acc: 0.6245 - val_loss: 0.9555 - val_acc: 0.5436\n",
            "\n",
            "Epoch 00029: val_acc did not improve from 0.55324\n",
            "Epoch 30/200\n",
            "15131/15131 [==============================] - 0s 6us/step - loss: 0.8015 - acc: 0.6310 - val_loss: 0.9572 - val_acc: 0.5436\n",
            "\n",
            "Epoch 00030: val_acc did not improve from 0.55324\n",
            "Epoch 31/200\n",
            "15131/15131 [==============================] - 0s 6us/step - loss: 0.8036 - acc: 0.6319 - val_loss: 0.9589 - val_acc: 0.5404\n",
            "\n",
            "Epoch 00031: val_acc did not improve from 0.55324\n",
            "Epoch 32/200\n",
            "15131/15131 [==============================] - 0s 6us/step - loss: 0.7984 - acc: 0.6343 - val_loss: 0.9569 - val_acc: 0.5415\n",
            "\n",
            "Epoch 00032: val_acc did not improve from 0.55324\n",
            "Epoch 33/200\n",
            "15131/15131 [==============================] - 0s 6us/step - loss: 0.7968 - acc: 0.6332 - val_loss: 0.9596 - val_acc: 0.5404\n",
            "\n",
            "Epoch 00033: val_acc did not improve from 0.55324\n",
            "Epoch 34/200\n",
            "15131/15131 [==============================] - 0s 6us/step - loss: 0.7954 - acc: 0.6341 - val_loss: 0.9578 - val_acc: 0.5399\n",
            "\n",
            "Epoch 00034: val_acc did not improve from 0.55324\n",
            "Epoch 35/200\n",
            "15131/15131 [==============================] - 0s 6us/step - loss: 0.7925 - acc: 0.6374 - val_loss: 0.9601 - val_acc: 0.5415\n",
            "\n",
            "Epoch 00035: val_acc did not improve from 0.55324\n",
            "Epoch 36/200\n",
            "15131/15131 [==============================] - 0s 6us/step - loss: 0.7913 - acc: 0.6407 - val_loss: 0.9608 - val_acc: 0.5409\n",
            "\n",
            "Epoch 00036: val_acc did not improve from 0.55324\n",
            "Epoch 37/200\n",
            "15131/15131 [==============================] - 0s 6us/step - loss: 0.7881 - acc: 0.6418 - val_loss: 0.9621 - val_acc: 0.5388\n",
            "\n",
            "Epoch 00037: val_acc did not improve from 0.55324\n",
            "Epoch 38/200\n",
            "15131/15131 [==============================] - 0s 6us/step - loss: 0.7865 - acc: 0.6409 - val_loss: 0.9626 - val_acc: 0.5388\n",
            "\n",
            "Epoch 00038: val_acc did not improve from 0.55324\n",
            "Epoch 39/200\n",
            "15131/15131 [==============================] - 0s 6us/step - loss: 0.7848 - acc: 0.6452 - val_loss: 0.9630 - val_acc: 0.5383\n",
            "\n",
            "Epoch 00039: val_acc did not improve from 0.55324\n",
            "Epoch 40/200\n",
            "15131/15131 [==============================] - 0s 6us/step - loss: 0.7810 - acc: 0.6478 - val_loss: 0.9659 - val_acc: 0.5404\n",
            "\n",
            "Epoch 00040: val_acc did not improve from 0.55324\n",
            "Epoch 41/200\n",
            "15131/15131 [==============================] - 0s 6us/step - loss: 0.7795 - acc: 0.6462 - val_loss: 0.9645 - val_acc: 0.5399\n",
            "\n",
            "Epoch 00041: val_acc did not improve from 0.55324\n",
            "Epoch 42/200\n",
            "15131/15131 [==============================] - 0s 6us/step - loss: 0.7781 - acc: 0.6499 - val_loss: 0.9650 - val_acc: 0.5441\n",
            "\n",
            "Epoch 00042: val_acc did not improve from 0.55324\n",
            "Epoch 43/200\n",
            "15131/15131 [==============================] - 0s 6us/step - loss: 0.7764 - acc: 0.6503 - val_loss: 0.9660 - val_acc: 0.5479\n",
            "\n",
            "Epoch 00043: val_acc did not improve from 0.55324\n",
            "Epoch 44/200\n",
            "15131/15131 [==============================] - 0s 7us/step - loss: 0.7728 - acc: 0.6555 - val_loss: 0.9677 - val_acc: 0.5452\n",
            "\n",
            "Epoch 00044: val_acc did not improve from 0.55324\n",
            "Epoch 45/200\n",
            "15131/15131 [==============================] - 0s 6us/step - loss: 0.7720 - acc: 0.6562 - val_loss: 0.9687 - val_acc: 0.5463\n",
            "\n",
            "Epoch 00045: val_acc did not improve from 0.55324\n",
            "Epoch 46/200\n",
            "15131/15131 [==============================] - 0s 6us/step - loss: 0.7681 - acc: 0.6590 - val_loss: 0.9684 - val_acc: 0.5447\n",
            "\n",
            "Epoch 00046: val_acc did not improve from 0.55324\n",
            "Epoch 47/200\n",
            "15131/15131 [==============================] - 0s 6us/step - loss: 0.7650 - acc: 0.6588 - val_loss: 0.9702 - val_acc: 0.5393\n",
            "\n",
            "Epoch 00047: val_acc did not improve from 0.55324\n",
            "Epoch 48/200\n",
            "15131/15131 [==============================] - 0s 6us/step - loss: 0.7629 - acc: 0.6599 - val_loss: 0.9715 - val_acc: 0.5372\n",
            "\n",
            "Epoch 00048: val_acc did not improve from 0.55324\n",
            "Epoch 49/200\n",
            "15131/15131 [==============================] - 0s 6us/step - loss: 0.7632 - acc: 0.6606 - val_loss: 0.9712 - val_acc: 0.5383\n",
            "\n",
            "Epoch 00049: val_acc did not improve from 0.55324\n",
            "Epoch 50/200\n",
            "15131/15131 [==============================] - 0s 6us/step - loss: 0.7566 - acc: 0.6669 - val_loss: 0.9730 - val_acc: 0.5361\n",
            "\n",
            "Epoch 00050: val_acc did not improve from 0.55324\n",
            "Epoch 51/200\n",
            "15131/15131 [==============================] - 0s 5us/step - loss: 0.7559 - acc: 0.6664 - val_loss: 0.9752 - val_acc: 0.5356\n",
            "\n",
            "Epoch 00051: val_acc did not improve from 0.55324\n",
            "Epoch 52/200\n",
            "15131/15131 [==============================] - 0s 6us/step - loss: 0.7535 - acc: 0.6671 - val_loss: 0.9750 - val_acc: 0.5361\n",
            "\n",
            "Epoch 00052: val_acc did not improve from 0.55324\n",
            "Epoch 53/200\n",
            "15131/15131 [==============================] - 0s 6us/step - loss: 0.7525 - acc: 0.6664 - val_loss: 0.9760 - val_acc: 0.5356\n",
            "\n",
            "Epoch 00053: val_acc did not improve from 0.55324\n",
            "Epoch 54/200\n",
            "15131/15131 [==============================] - 0s 6us/step - loss: 0.7511 - acc: 0.6709 - val_loss: 0.9773 - val_acc: 0.5324\n",
            "\n",
            "Epoch 00054: val_acc did not improve from 0.55324\n",
            "Epoch 55/200\n",
            "15131/15131 [==============================] - 0s 6us/step - loss: 0.7463 - acc: 0.6705 - val_loss: 0.9778 - val_acc: 0.5404\n",
            "\n",
            "Epoch 00055: val_acc did not improve from 0.55324\n",
            "Epoch 56/200\n",
            "15131/15131 [==============================] - 0s 6us/step - loss: 0.7443 - acc: 0.6760 - val_loss: 0.9781 - val_acc: 0.5399\n",
            "\n",
            "Epoch 00056: val_acc did not improve from 0.55324\n",
            "Epoch 57/200\n",
            "15131/15131 [==============================] - 0s 6us/step - loss: 0.7420 - acc: 0.6754 - val_loss: 0.9800 - val_acc: 0.5372\n",
            "\n",
            "Epoch 00057: val_acc did not improve from 0.55324\n",
            "Epoch 58/200\n",
            "15131/15131 [==============================] - 0s 6us/step - loss: 0.7368 - acc: 0.6799 - val_loss: 0.9808 - val_acc: 0.5447\n",
            "\n",
            "Epoch 00058: val_acc did not improve from 0.55324\n",
            "Epoch 59/200\n",
            "15131/15131 [==============================] - 0s 6us/step - loss: 0.7387 - acc: 0.6784 - val_loss: 0.9827 - val_acc: 0.5388\n",
            "\n",
            "Epoch 00059: val_acc did not improve from 0.55324\n",
            "Epoch 60/200\n",
            "15131/15131 [==============================] - 0s 6us/step - loss: 0.7330 - acc: 0.6832 - val_loss: 0.9840 - val_acc: 0.5399\n",
            "\n",
            "Epoch 00060: val_acc did not improve from 0.55324\n",
            "Epoch 61/200\n",
            "15131/15131 [==============================] - 0s 6us/step - loss: 0.7309 - acc: 0.6865 - val_loss: 0.9837 - val_acc: 0.5415\n",
            "\n",
            "Epoch 00061: val_acc did not improve from 0.55324\n",
            "Epoch 62/200\n",
            "15131/15131 [==============================] - 0s 6us/step - loss: 0.7280 - acc: 0.6887 - val_loss: 0.9852 - val_acc: 0.5399\n",
            "\n",
            "Epoch 00062: val_acc did not improve from 0.55324\n",
            "Epoch 63/200\n",
            "15131/15131 [==============================] - 0s 6us/step - loss: 0.7227 - acc: 0.6867 - val_loss: 0.9866 - val_acc: 0.5415\n",
            "\n",
            "Epoch 00063: val_acc did not improve from 0.55324\n",
            "Epoch 64/200\n",
            "15131/15131 [==============================] - 0s 6us/step - loss: 0.7204 - acc: 0.6933 - val_loss: 0.9879 - val_acc: 0.5415\n",
            "\n",
            "Epoch 00064: val_acc did not improve from 0.55324\n",
            "Epoch 65/200\n",
            "15131/15131 [==============================] - 0s 5us/step - loss: 0.7211 - acc: 0.6898 - val_loss: 0.9885 - val_acc: 0.5415\n",
            "\n",
            "Epoch 00065: val_acc did not improve from 0.55324\n",
            "Epoch 66/200\n",
            "15131/15131 [==============================] - 0s 6us/step - loss: 0.7157 - acc: 0.6931 - val_loss: 0.9908 - val_acc: 0.5420\n",
            "\n",
            "Epoch 00066: val_acc did not improve from 0.55324\n",
            "Epoch 67/200\n",
            "15131/15131 [==============================] - 0s 6us/step - loss: 0.7153 - acc: 0.6917 - val_loss: 0.9922 - val_acc: 0.5415\n",
            "\n",
            "Epoch 00067: val_acc did not improve from 0.55324\n",
            "Epoch 68/200\n",
            "15131/15131 [==============================] - 0s 6us/step - loss: 0.7090 - acc: 0.7020 - val_loss: 0.9948 - val_acc: 0.5431\n",
            "\n",
            "Epoch 00068: val_acc did not improve from 0.55324\n",
            "Epoch 69/200\n",
            "15131/15131 [==============================] - 0s 6us/step - loss: 0.7078 - acc: 0.6958 - val_loss: 0.9960 - val_acc: 0.5431\n",
            "\n",
            "Epoch 00069: val_acc did not improve from 0.55324\n",
            "Epoch 70/200\n",
            "15131/15131 [==============================] - 0s 6us/step - loss: 0.6987 - acc: 0.7042 - val_loss: 0.9988 - val_acc: 0.5431\n",
            "\n",
            "Epoch 00070: val_acc did not improve from 0.55324\n",
            "Epoch 71/200\n",
            "15131/15131 [==============================] - 0s 7us/step - loss: 0.7025 - acc: 0.7019 - val_loss: 0.9979 - val_acc: 0.5425\n",
            "\n",
            "Epoch 00071: val_acc did not improve from 0.55324\n",
            "Epoch 72/200\n",
            "15131/15131 [==============================] - 0s 6us/step - loss: 0.6987 - acc: 0.7035 - val_loss: 0.9985 - val_acc: 0.5436\n",
            "\n",
            "Epoch 00072: val_acc did not improve from 0.55324\n",
            "Epoch 73/200\n",
            "15131/15131 [==============================] - 0s 6us/step - loss: 0.6963 - acc: 0.7077 - val_loss: 1.0017 - val_acc: 0.5436\n",
            "\n",
            "Epoch 00073: val_acc did not improve from 0.55324\n",
            "Epoch 74/200\n",
            "15131/15131 [==============================] - 0s 6us/step - loss: 0.6956 - acc: 0.7072 - val_loss: 1.0029 - val_acc: 0.5425\n",
            "\n",
            "Epoch 00074: val_acc did not improve from 0.55324\n",
            "Epoch 75/200\n",
            "15131/15131 [==============================] - 0s 6us/step - loss: 0.6886 - acc: 0.7104 - val_loss: 1.0046 - val_acc: 0.5457\n",
            "\n",
            "Epoch 00075: val_acc did not improve from 0.55324\n",
            "Epoch 76/200\n",
            "15131/15131 [==============================] - 0s 6us/step - loss: 0.6862 - acc: 0.7150 - val_loss: 1.0090 - val_acc: 0.5452\n",
            "\n",
            "Epoch 00076: val_acc did not improve from 0.55324\n",
            "Epoch 77/200\n",
            "15131/15131 [==============================] - 0s 6us/step - loss: 0.6828 - acc: 0.7136 - val_loss: 1.0108 - val_acc: 0.5452\n",
            "\n",
            "Epoch 00077: val_acc did not improve from 0.55324\n",
            "Epoch 78/200\n",
            "15131/15131 [==============================] - 0s 6us/step - loss: 0.6835 - acc: 0.7116 - val_loss: 1.0153 - val_acc: 0.5425\n",
            "\n",
            "Epoch 00078: val_acc did not improve from 0.55324\n",
            "Epoch 79/200\n",
            "15131/15131 [==============================] - 0s 6us/step - loss: 0.6797 - acc: 0.7172 - val_loss: 1.0129 - val_acc: 0.5484\n",
            "\n",
            "Epoch 00079: val_acc did not improve from 0.55324\n",
            "Epoch 80/200\n",
            "15131/15131 [==============================] - 0s 6us/step - loss: 0.6780 - acc: 0.7169 - val_loss: 1.0149 - val_acc: 0.5522\n",
            "\n",
            "Epoch 00080: val_acc did not improve from 0.55324\n",
            "Epoch 81/200\n",
            "15131/15131 [==============================] - 0s 6us/step - loss: 0.6727 - acc: 0.7202 - val_loss: 1.0149 - val_acc: 0.5436\n",
            "\n",
            "Epoch 00081: val_acc did not improve from 0.55324\n",
            "Epoch 82/200\n",
            "15131/15131 [==============================] - 0s 6us/step - loss: 0.6706 - acc: 0.7168 - val_loss: 1.0202 - val_acc: 0.5409\n",
            "\n",
            "Epoch 00082: val_acc did not improve from 0.55324\n",
            "Epoch 83/200\n",
            "15131/15131 [==============================] - 0s 6us/step - loss: 0.6690 - acc: 0.7244 - val_loss: 1.0201 - val_acc: 0.5479\n",
            "\n",
            "Epoch 00083: val_acc did not improve from 0.55324\n",
            "Epoch 84/200\n",
            "15131/15131 [==============================] - 0s 6us/step - loss: 0.6645 - acc: 0.7222 - val_loss: 1.0214 - val_acc: 0.5500\n",
            "\n",
            "Epoch 00084: val_acc did not improve from 0.55324\n",
            "Epoch 85/200\n",
            "15131/15131 [==============================] - 0s 5us/step - loss: 0.6597 - acc: 0.7242 - val_loss: 1.0249 - val_acc: 0.5516\n",
            "\n",
            "Epoch 00085: val_acc did not improve from 0.55324\n",
            "Epoch 86/200\n",
            "15131/15131 [==============================] - 0s 6us/step - loss: 0.6566 - acc: 0.7271 - val_loss: 1.0281 - val_acc: 0.5511\n",
            "\n",
            "Epoch 00086: val_acc did not improve from 0.55324\n",
            "Epoch 87/200\n",
            "15131/15131 [==============================] - 0s 5us/step - loss: 0.6589 - acc: 0.7265 - val_loss: 1.0261 - val_acc: 0.5452\n",
            "\n",
            "Epoch 00087: val_acc did not improve from 0.55324\n",
            "Epoch 88/200\n",
            "15131/15131 [==============================] - 0s 5us/step - loss: 0.6563 - acc: 0.7272 - val_loss: 1.0275 - val_acc: 0.5474\n",
            "\n",
            "Epoch 00088: val_acc did not improve from 0.55324\n",
            "Epoch 89/200\n",
            "15131/15131 [==============================] - 0s 6us/step - loss: 0.6477 - acc: 0.7326 - val_loss: 1.0320 - val_acc: 0.5516\n",
            "\n",
            "Epoch 00089: val_acc did not improve from 0.55324\n",
            "Epoch 90/200\n",
            "15131/15131 [==============================] - 0s 6us/step - loss: 0.6481 - acc: 0.7315 - val_loss: 1.0325 - val_acc: 0.5490\n",
            "\n",
            "Epoch 00090: val_acc did not improve from 0.55324\n",
            "Epoch 91/200\n",
            "15131/15131 [==============================] - 0s 6us/step - loss: 0.6502 - acc: 0.7284 - val_loss: 1.0349 - val_acc: 0.5516\n",
            "\n",
            "Epoch 00091: val_acc did not improve from 0.55324\n",
            "Epoch 92/200\n",
            "15131/15131 [==============================] - 0s 6us/step - loss: 0.6442 - acc: 0.7324 - val_loss: 1.0384 - val_acc: 0.5463\n",
            "\n",
            "Epoch 00092: val_acc did not improve from 0.55324\n",
            "Epoch 93/200\n",
            "15131/15131 [==============================] - 0s 6us/step - loss: 0.6414 - acc: 0.7372 - val_loss: 1.0402 - val_acc: 0.5511\n",
            "\n",
            "Epoch 00093: val_acc did not improve from 0.55324\n",
            "Epoch 94/200\n",
            "15131/15131 [==============================] - 0s 7us/step - loss: 0.6401 - acc: 0.7360 - val_loss: 1.0418 - val_acc: 0.5495\n",
            "\n",
            "Epoch 00094: val_acc did not improve from 0.55324\n",
            "Epoch 95/200\n",
            "15131/15131 [==============================] - 0s 7us/step - loss: 0.6408 - acc: 0.7359 - val_loss: 1.0397 - val_acc: 0.5457\n",
            "\n",
            "Epoch 00095: val_acc did not improve from 0.55324\n",
            "Epoch 96/200\n",
            "15131/15131 [==============================] - 0s 7us/step - loss: 0.6355 - acc: 0.7399 - val_loss: 1.0427 - val_acc: 0.5500\n",
            "\n",
            "Epoch 00096: val_acc did not improve from 0.55324\n",
            "Epoch 97/200\n",
            "15131/15131 [==============================] - 0s 6us/step - loss: 0.6308 - acc: 0.7403 - val_loss: 1.0465 - val_acc: 0.5474\n",
            "\n",
            "Epoch 00097: val_acc did not improve from 0.55324\n",
            "Epoch 98/200\n",
            "15131/15131 [==============================] - 0s 6us/step - loss: 0.6330 - acc: 0.7407 - val_loss: 1.0497 - val_acc: 0.5350\n",
            "\n",
            "Epoch 00098: val_acc did not improve from 0.55324\n",
            "Epoch 99/200\n",
            "15131/15131 [==============================] - 0s 6us/step - loss: 0.6272 - acc: 0.7431 - val_loss: 1.0505 - val_acc: 0.5425\n",
            "\n",
            "Epoch 00099: val_acc did not improve from 0.55324\n",
            "Epoch 100/200\n",
            "15131/15131 [==============================] - 0s 6us/step - loss: 0.6246 - acc: 0.7459 - val_loss: 1.0541 - val_acc: 0.5383\n",
            "\n",
            "Epoch 00100: val_acc did not improve from 0.55324\n",
            "Epoch 101/200\n",
            "15131/15131 [==============================] - 0s 6us/step - loss: 0.6218 - acc: 0.7420 - val_loss: 1.0535 - val_acc: 0.5431\n",
            "\n",
            "Epoch 00101: val_acc did not improve from 0.55324\n",
            "Epoch 102/200\n",
            "15131/15131 [==============================] - 0s 6us/step - loss: 0.6242 - acc: 0.7443 - val_loss: 1.0573 - val_acc: 0.5474\n",
            "\n",
            "Epoch 00102: val_acc did not improve from 0.55324\n",
            "Epoch 103/200\n",
            "15131/15131 [==============================] - 0s 6us/step - loss: 0.6211 - acc: 0.7440 - val_loss: 1.0589 - val_acc: 0.5409\n",
            "\n",
            "Epoch 00103: val_acc did not improve from 0.55324\n",
            "Epoch 104/200\n",
            "15131/15131 [==============================] - 0s 6us/step - loss: 0.6112 - acc: 0.7499 - val_loss: 1.0633 - val_acc: 0.5372\n",
            "\n",
            "Epoch 00104: val_acc did not improve from 0.55324\n",
            "Epoch 105/200\n",
            "15131/15131 [==============================] - 0s 6us/step - loss: 0.6133 - acc: 0.7487 - val_loss: 1.0687 - val_acc: 0.5393\n",
            "\n",
            "Epoch 00105: val_acc did not improve from 0.55324\n",
            "Epoch 106/200\n",
            "15131/15131 [==============================] - 0s 7us/step - loss: 0.6062 - acc: 0.7526 - val_loss: 1.0689 - val_acc: 0.5415\n",
            "\n",
            "Epoch 00106: val_acc did not improve from 0.55324\n",
            "Epoch 107/200\n",
            "15131/15131 [==============================] - 0s 6us/step - loss: 0.6185 - acc: 0.7450 - val_loss: 1.0688 - val_acc: 0.5420\n",
            "\n",
            "Epoch 00107: val_acc did not improve from 0.55324\n",
            "Epoch 108/200\n",
            "15131/15131 [==============================] - 0s 6us/step - loss: 0.6071 - acc: 0.7520 - val_loss: 1.0718 - val_acc: 0.5420\n",
            "\n",
            "Epoch 00108: val_acc did not improve from 0.55324\n",
            "Epoch 109/200\n",
            "15131/15131 [==============================] - 0s 5us/step - loss: 0.6056 - acc: 0.7520 - val_loss: 1.0748 - val_acc: 0.5474\n",
            "\n",
            "Epoch 00109: val_acc did not improve from 0.55324\n",
            "Epoch 110/200\n",
            "15131/15131 [==============================] - 0s 6us/step - loss: 0.6030 - acc: 0.7551 - val_loss: 1.0771 - val_acc: 0.5441\n",
            "\n",
            "Epoch 00110: val_acc did not improve from 0.55324\n",
            "Epoch 111/200\n",
            "15131/15131 [==============================] - 0s 6us/step - loss: 0.6067 - acc: 0.7528 - val_loss: 1.0780 - val_acc: 0.5425\n",
            "\n",
            "Epoch 00111: val_acc did not improve from 0.55324\n",
            "Epoch 112/200\n",
            "15131/15131 [==============================] - 0s 6us/step - loss: 0.6018 - acc: 0.7537 - val_loss: 1.0820 - val_acc: 0.5377\n",
            "\n",
            "Epoch 00112: val_acc did not improve from 0.55324\n",
            "Epoch 113/200\n",
            "15131/15131 [==============================] - 0s 6us/step - loss: 0.5975 - acc: 0.7553 - val_loss: 1.0839 - val_acc: 0.5404\n",
            "\n",
            "Epoch 00113: val_acc did not improve from 0.55324\n",
            "Epoch 114/200\n",
            "15131/15131 [==============================] - 0s 6us/step - loss: 0.5976 - acc: 0.7530 - val_loss: 1.0851 - val_acc: 0.5388\n",
            "\n",
            "Epoch 00114: val_acc did not improve from 0.55324\n",
            "Epoch 115/200\n",
            "15131/15131 [==============================] - 0s 6us/step - loss: 0.5927 - acc: 0.7609 - val_loss: 1.0848 - val_acc: 0.5388\n",
            "\n",
            "Epoch 00115: val_acc did not improve from 0.55324\n",
            "Epoch 116/200\n",
            "15131/15131 [==============================] - 0s 6us/step - loss: 0.5950 - acc: 0.7573 - val_loss: 1.0895 - val_acc: 0.5425\n",
            "\n",
            "Epoch 00116: val_acc did not improve from 0.55324\n",
            "Epoch 117/200\n",
            "15131/15131 [==============================] - 0s 6us/step - loss: 0.5845 - acc: 0.7608 - val_loss: 1.0977 - val_acc: 0.5409\n",
            "\n",
            "Epoch 00117: val_acc did not improve from 0.55324\n",
            "Epoch 118/200\n",
            "15131/15131 [==============================] - 0s 6us/step - loss: 0.5867 - acc: 0.7605 - val_loss: 1.0932 - val_acc: 0.5409\n",
            "\n",
            "Epoch 00118: val_acc did not improve from 0.55324\n",
            "Epoch 119/200\n",
            "15131/15131 [==============================] - 0s 6us/step - loss: 0.5871 - acc: 0.7583 - val_loss: 1.0963 - val_acc: 0.5399\n",
            "\n",
            "Epoch 00119: val_acc did not improve from 0.55324\n",
            "Epoch 120/200\n",
            "15131/15131 [==============================] - 0s 6us/step - loss: 0.5869 - acc: 0.7602 - val_loss: 1.0998 - val_acc: 0.5388\n",
            "\n",
            "Epoch 00120: val_acc did not improve from 0.55324\n",
            "Epoch 121/200\n",
            "15131/15131 [==============================] - 0s 7us/step - loss: 0.5820 - acc: 0.7647 - val_loss: 1.1035 - val_acc: 0.5377\n",
            "\n",
            "Epoch 00121: val_acc did not improve from 0.55324\n",
            "Epoch 122/200\n",
            "15131/15131 [==============================] - 0s 6us/step - loss: 0.5804 - acc: 0.7654 - val_loss: 1.1021 - val_acc: 0.5372\n",
            "\n",
            "Epoch 00122: val_acc did not improve from 0.55324\n",
            "Epoch 123/200\n",
            "15131/15131 [==============================] - 0s 6us/step - loss: 0.5781 - acc: 0.7652 - val_loss: 1.1037 - val_acc: 0.5409\n",
            "\n",
            "Epoch 00123: val_acc did not improve from 0.55324\n",
            "Epoch 124/200\n",
            "15131/15131 [==============================] - 0s 6us/step - loss: 0.5800 - acc: 0.7618 - val_loss: 1.1096 - val_acc: 0.5393\n",
            "\n",
            "Epoch 00124: val_acc did not improve from 0.55324\n",
            "Epoch 125/200\n",
            "15131/15131 [==============================] - 0s 6us/step - loss: 0.5735 - acc: 0.7687 - val_loss: 1.1106 - val_acc: 0.5393\n",
            "\n",
            "Epoch 00125: val_acc did not improve from 0.55324\n",
            "Epoch 126/200\n",
            "15131/15131 [==============================] - 0s 6us/step - loss: 0.5706 - acc: 0.7708 - val_loss: 1.1145 - val_acc: 0.5372\n",
            "\n",
            "Epoch 00126: val_acc did not improve from 0.55324\n",
            "Epoch 127/200\n",
            "15131/15131 [==============================] - 0s 6us/step - loss: 0.5713 - acc: 0.7658 - val_loss: 1.1109 - val_acc: 0.5415\n",
            "\n",
            "Epoch 00127: val_acc did not improve from 0.55324\n",
            "Epoch 128/200\n",
            "15131/15131 [==============================] - 0s 6us/step - loss: 0.5710 - acc: 0.7664 - val_loss: 1.1189 - val_acc: 0.5377\n",
            "\n",
            "Epoch 00128: val_acc did not improve from 0.55324\n",
            "Epoch 129/200\n",
            "15131/15131 [==============================] - 0s 6us/step - loss: 0.5677 - acc: 0.7686 - val_loss: 1.1185 - val_acc: 0.5388\n",
            "\n",
            "Epoch 00129: val_acc did not improve from 0.55324\n",
            "Epoch 130/200\n",
            "15131/15131 [==============================] - 0s 6us/step - loss: 0.5651 - acc: 0.7696 - val_loss: 1.1214 - val_acc: 0.5318\n",
            "\n",
            "Epoch 00130: val_acc did not improve from 0.55324\n",
            "Epoch 131/200\n",
            "15131/15131 [==============================] - 0s 6us/step - loss: 0.5647 - acc: 0.7707 - val_loss: 1.1262 - val_acc: 0.5345\n",
            "\n",
            "Epoch 00131: val_acc did not improve from 0.55324\n",
            "Epoch 132/200\n",
            "15131/15131 [==============================] - 0s 6us/step - loss: 0.5630 - acc: 0.7709 - val_loss: 1.1281 - val_acc: 0.5383\n",
            "\n",
            "Epoch 00132: val_acc did not improve from 0.55324\n",
            "Epoch 133/200\n",
            "15131/15131 [==============================] - 0s 6us/step - loss: 0.5606 - acc: 0.7740 - val_loss: 1.1304 - val_acc: 0.5329\n",
            "\n",
            "Epoch 00133: val_acc did not improve from 0.55324\n",
            "Epoch 134/200\n",
            "15131/15131 [==============================] - 0s 6us/step - loss: 0.5638 - acc: 0.7728 - val_loss: 1.1348 - val_acc: 0.5361\n",
            "\n",
            "Epoch 00134: val_acc did not improve from 0.55324\n",
            "Epoch 135/200\n",
            "15131/15131 [==============================] - 0s 6us/step - loss: 0.5612 - acc: 0.7690 - val_loss: 1.1328 - val_acc: 0.5409\n",
            "\n",
            "Epoch 00135: val_acc did not improve from 0.55324\n",
            "Epoch 136/200\n",
            "15131/15131 [==============================] - 0s 6us/step - loss: 0.5607 - acc: 0.7720 - val_loss: 1.1373 - val_acc: 0.5356\n",
            "\n",
            "Epoch 00136: val_acc did not improve from 0.55324\n",
            "Epoch 137/200\n",
            "15131/15131 [==============================] - 0s 6us/step - loss: 0.5590 - acc: 0.7733 - val_loss: 1.1425 - val_acc: 0.5356\n",
            "\n",
            "Epoch 00137: val_acc did not improve from 0.55324\n",
            "Epoch 138/200\n",
            "15131/15131 [==============================] - 0s 6us/step - loss: 0.5564 - acc: 0.7773 - val_loss: 1.1422 - val_acc: 0.5356\n",
            "\n",
            "Epoch 00138: val_acc did not improve from 0.55324\n",
            "Epoch 139/200\n",
            "15131/15131 [==============================] - 0s 6us/step - loss: 0.5550 - acc: 0.7724 - val_loss: 1.1474 - val_acc: 0.5361\n",
            "\n",
            "Epoch 00139: val_acc did not improve from 0.55324\n",
            "Epoch 140/200\n",
            "15131/15131 [==============================] - 0s 6us/step - loss: 0.5514 - acc: 0.7808 - val_loss: 1.1448 - val_acc: 0.5350\n",
            "\n",
            "Epoch 00140: val_acc did not improve from 0.55324\n",
            "Epoch 141/200\n",
            "15131/15131 [==============================] - 0s 6us/step - loss: 0.5535 - acc: 0.7747 - val_loss: 1.1473 - val_acc: 0.5399\n",
            "\n",
            "Epoch 00141: val_acc did not improve from 0.55324\n",
            "Epoch 142/200\n",
            "15131/15131 [==============================] - 0s 6us/step - loss: 0.5517 - acc: 0.7740 - val_loss: 1.1489 - val_acc: 0.5324\n",
            "\n",
            "Epoch 00142: val_acc did not improve from 0.55324\n",
            "Epoch 143/200\n",
            "15131/15131 [==============================] - 0s 6us/step - loss: 0.5479 - acc: 0.7760 - val_loss: 1.1560 - val_acc: 0.5372\n",
            "\n",
            "Epoch 00143: val_acc did not improve from 0.55324\n",
            "Epoch 144/200\n",
            "15131/15131 [==============================] - 0s 6us/step - loss: 0.5480 - acc: 0.7762 - val_loss: 1.1569 - val_acc: 0.5345\n",
            "\n",
            "Epoch 00144: val_acc did not improve from 0.55324\n",
            "Epoch 145/200\n",
            "15131/15131 [==============================] - 0s 6us/step - loss: 0.5450 - acc: 0.7799 - val_loss: 1.1540 - val_acc: 0.5377\n",
            "\n",
            "Epoch 00145: val_acc did not improve from 0.55324\n",
            "Epoch 146/200\n",
            "15131/15131 [==============================] - 0s 6us/step - loss: 0.5446 - acc: 0.7810 - val_loss: 1.1596 - val_acc: 0.5393\n",
            "\n",
            "Epoch 00146: val_acc did not improve from 0.55324\n",
            "Epoch 147/200\n",
            "15131/15131 [==============================] - 0s 6us/step - loss: 0.5454 - acc: 0.7798 - val_loss: 1.1538 - val_acc: 0.5318\n",
            "\n",
            "Epoch 00147: val_acc did not improve from 0.55324\n",
            "Epoch 148/200\n",
            "15131/15131 [==============================] - 0s 6us/step - loss: 0.5452 - acc: 0.7794 - val_loss: 1.1564 - val_acc: 0.5361\n",
            "\n",
            "Epoch 00148: val_acc did not improve from 0.55324\n",
            "Epoch 149/200\n",
            "15131/15131 [==============================] - 0s 6us/step - loss: 0.5428 - acc: 0.7803 - val_loss: 1.1590 - val_acc: 0.5404\n",
            "\n",
            "Epoch 00149: val_acc did not improve from 0.55324\n",
            "Epoch 150/200\n",
            "15131/15131 [==============================] - 0s 6us/step - loss: 0.5401 - acc: 0.7814 - val_loss: 1.1674 - val_acc: 0.5420\n",
            "\n",
            "Epoch 00150: val_acc did not improve from 0.55324\n",
            "Epoch 151/200\n",
            "15131/15131 [==============================] - 0s 7us/step - loss: 0.5360 - acc: 0.7851 - val_loss: 1.1708 - val_acc: 0.5399\n",
            "\n",
            "Epoch 00151: val_acc did not improve from 0.55324\n",
            "Epoch 152/200\n",
            "15131/15131 [==============================] - 0s 7us/step - loss: 0.5398 - acc: 0.7807 - val_loss: 1.1733 - val_acc: 0.5372\n",
            "\n",
            "Epoch 00152: val_acc did not improve from 0.55324\n",
            "Epoch 153/200\n",
            "15131/15131 [==============================] - 0s 6us/step - loss: 0.5330 - acc: 0.7869 - val_loss: 1.1789 - val_acc: 0.5367\n",
            "\n",
            "Epoch 00153: val_acc did not improve from 0.55324\n",
            "Epoch 154/200\n",
            "15131/15131 [==============================] - 0s 6us/step - loss: 0.5333 - acc: 0.7869 - val_loss: 1.1770 - val_acc: 0.5409\n",
            "\n",
            "Epoch 00154: val_acc did not improve from 0.55324\n",
            "Epoch 155/200\n",
            "15131/15131 [==============================] - 0s 6us/step - loss: 0.5302 - acc: 0.7859 - val_loss: 1.1787 - val_acc: 0.5372\n",
            "\n",
            "Epoch 00155: val_acc did not improve from 0.55324\n",
            "Epoch 156/200\n",
            "15131/15131 [==============================] - 0s 6us/step - loss: 0.5302 - acc: 0.7831 - val_loss: 1.1831 - val_acc: 0.5393\n",
            "\n",
            "Epoch 00156: val_acc did not improve from 0.55324\n",
            "Epoch 157/200\n",
            "15131/15131 [==============================] - 0s 6us/step - loss: 0.5316 - acc: 0.7844 - val_loss: 1.1870 - val_acc: 0.5404\n",
            "\n",
            "Epoch 00157: val_acc did not improve from 0.55324\n",
            "Epoch 158/200\n",
            "15131/15131 [==============================] - 0s 6us/step - loss: 0.5252 - acc: 0.7853 - val_loss: 1.1906 - val_acc: 0.5393\n",
            "\n",
            "Epoch 00158: val_acc did not improve from 0.55324\n",
            "Epoch 159/200\n",
            "15131/15131 [==============================] - 0s 6us/step - loss: 0.5270 - acc: 0.7871 - val_loss: 1.1923 - val_acc: 0.5377\n",
            "\n",
            "Epoch 00159: val_acc did not improve from 0.55324\n",
            "Epoch 160/200\n",
            "15131/15131 [==============================] - 0s 6us/step - loss: 0.5235 - acc: 0.7891 - val_loss: 1.1907 - val_acc: 0.5399\n",
            "\n",
            "Epoch 00160: val_acc did not improve from 0.55324\n",
            "Epoch 161/200\n",
            "15131/15131 [==============================] - 0s 6us/step - loss: 0.5239 - acc: 0.7898 - val_loss: 1.1896 - val_acc: 0.5393\n",
            "\n",
            "Epoch 00161: val_acc did not improve from 0.55324\n",
            "Epoch 162/200\n",
            "15131/15131 [==============================] - 0s 6us/step - loss: 0.5256 - acc: 0.7885 - val_loss: 1.1955 - val_acc: 0.5334\n",
            "\n",
            "Epoch 00162: val_acc did not improve from 0.55324\n",
            "Epoch 163/200\n",
            "15131/15131 [==============================] - 0s 6us/step - loss: 0.5261 - acc: 0.7882 - val_loss: 1.2019 - val_acc: 0.5340\n",
            "\n",
            "Epoch 00163: val_acc did not improve from 0.55324\n",
            "Epoch 164/200\n",
            "15131/15131 [==============================] - 0s 6us/step - loss: 0.5286 - acc: 0.7845 - val_loss: 1.2024 - val_acc: 0.5313\n",
            "\n",
            "Epoch 00164: val_acc did not improve from 0.55324\n",
            "Epoch 165/200\n",
            "15131/15131 [==============================] - 0s 7us/step - loss: 0.5184 - acc: 0.7938 - val_loss: 1.2050 - val_acc: 0.5329\n",
            "\n",
            "Epoch 00165: val_acc did not improve from 0.55324\n",
            "Epoch 166/200\n",
            "15131/15131 [==============================] - 0s 7us/step - loss: 0.5166 - acc: 0.7954 - val_loss: 1.2037 - val_acc: 0.5313\n",
            "\n",
            "Epoch 00166: val_acc did not improve from 0.55324\n",
            "Epoch 167/200\n",
            "15131/15131 [==============================] - 0s 6us/step - loss: 0.5213 - acc: 0.7879 - val_loss: 1.2020 - val_acc: 0.5297\n",
            "\n",
            "Epoch 00167: val_acc did not improve from 0.55324\n",
            "Epoch 168/200\n",
            "15131/15131 [==============================] - 0s 6us/step - loss: 0.5228 - acc: 0.7909 - val_loss: 1.2075 - val_acc: 0.5334\n",
            "\n",
            "Epoch 00168: val_acc did not improve from 0.55324\n",
            "Epoch 169/200\n",
            "15131/15131 [==============================] - 0s 7us/step - loss: 0.5158 - acc: 0.7912 - val_loss: 1.2035 - val_acc: 0.5334\n",
            "\n",
            "Epoch 00169: val_acc did not improve from 0.55324\n",
            "Epoch 170/200\n",
            "15131/15131 [==============================] - 0s 6us/step - loss: 0.5186 - acc: 0.7937 - val_loss: 1.2057 - val_acc: 0.5367\n",
            "\n",
            "Epoch 00170: val_acc did not improve from 0.55324\n",
            "Epoch 171/200\n",
            "15131/15131 [==============================] - 0s 6us/step - loss: 0.5214 - acc: 0.7923 - val_loss: 1.2059 - val_acc: 0.5377\n",
            "\n",
            "Epoch 00171: val_acc did not improve from 0.55324\n",
            "Epoch 172/200\n",
            "15131/15131 [==============================] - 0s 6us/step - loss: 0.5138 - acc: 0.7937 - val_loss: 1.2139 - val_acc: 0.5329\n",
            "\n",
            "Epoch 00172: val_acc did not improve from 0.55324\n",
            "Epoch 173/200\n",
            "15131/15131 [==============================] - 0s 6us/step - loss: 0.5155 - acc: 0.7925 - val_loss: 1.2132 - val_acc: 0.5270\n",
            "\n",
            "Epoch 00173: val_acc did not improve from 0.55324\n",
            "Epoch 174/200\n",
            "15131/15131 [==============================] - 0s 7us/step - loss: 0.5151 - acc: 0.7914 - val_loss: 1.2147 - val_acc: 0.5340\n",
            "\n",
            "Epoch 00174: val_acc did not improve from 0.55324\n",
            "Epoch 175/200\n",
            "15131/15131 [==============================] - 0s 6us/step - loss: 0.5120 - acc: 0.7931 - val_loss: 1.2202 - val_acc: 0.5345\n",
            "\n",
            "Epoch 00175: val_acc did not improve from 0.55324\n",
            "Epoch 176/200\n",
            "15131/15131 [==============================] - 0s 6us/step - loss: 0.5086 - acc: 0.7951 - val_loss: 1.2234 - val_acc: 0.5334\n",
            "\n",
            "Epoch 00176: val_acc did not improve from 0.55324\n",
            "Epoch 177/200\n",
            "15131/15131 [==============================] - 0s 6us/step - loss: 0.5042 - acc: 0.7960 - val_loss: 1.2266 - val_acc: 0.5313\n",
            "\n",
            "Epoch 00177: val_acc did not improve from 0.55324\n",
            "Epoch 178/200\n",
            "15131/15131 [==============================] - 0s 6us/step - loss: 0.5107 - acc: 0.7945 - val_loss: 1.2280 - val_acc: 0.5340\n",
            "\n",
            "Epoch 00178: val_acc did not improve from 0.55324\n",
            "Epoch 179/200\n",
            "15131/15131 [==============================] - 0s 6us/step - loss: 0.5078 - acc: 0.7959 - val_loss: 1.2302 - val_acc: 0.5297\n",
            "\n",
            "Epoch 00179: val_acc did not improve from 0.55324\n",
            "Epoch 180/200\n",
            "15131/15131 [==============================] - 0s 6us/step - loss: 0.5129 - acc: 0.7923 - val_loss: 1.2272 - val_acc: 0.5324\n",
            "\n",
            "Epoch 00180: val_acc did not improve from 0.55324\n",
            "Epoch 181/200\n",
            "15131/15131 [==============================] - 0s 6us/step - loss: 0.5084 - acc: 0.7964 - val_loss: 1.2311 - val_acc: 0.5292\n",
            "\n",
            "Epoch 00181: val_acc did not improve from 0.55324\n",
            "Epoch 182/200\n",
            "15131/15131 [==============================] - 0s 6us/step - loss: 0.5033 - acc: 0.7982 - val_loss: 1.2381 - val_acc: 0.5329\n",
            "\n",
            "Epoch 00182: val_acc did not improve from 0.55324\n",
            "Epoch 183/200\n",
            "15131/15131 [==============================] - 0s 6us/step - loss: 0.5028 - acc: 0.7963 - val_loss: 1.2370 - val_acc: 0.5292\n",
            "\n",
            "Epoch 00183: val_acc did not improve from 0.55324\n",
            "Epoch 184/200\n",
            "15131/15131 [==============================] - 0s 7us/step - loss: 0.5098 - acc: 0.7939 - val_loss: 1.2353 - val_acc: 0.5334\n",
            "\n",
            "Epoch 00184: val_acc did not improve from 0.55324\n",
            "Epoch 185/200\n",
            "15131/15131 [==============================] - 0s 6us/step - loss: 0.5046 - acc: 0.7974 - val_loss: 1.2366 - val_acc: 0.5297\n",
            "\n",
            "Epoch 00185: val_acc did not improve from 0.55324\n",
            "Epoch 186/200\n",
            "15131/15131 [==============================] - 0s 7us/step - loss: 0.5053 - acc: 0.7945 - val_loss: 1.2321 - val_acc: 0.5356\n",
            "\n",
            "Epoch 00186: val_acc did not improve from 0.55324\n",
            "Epoch 187/200\n",
            "15131/15131 [==============================] - 0s 7us/step - loss: 0.5056 - acc: 0.7976 - val_loss: 1.2394 - val_acc: 0.5329\n",
            "\n",
            "Epoch 00187: val_acc did not improve from 0.55324\n",
            "Epoch 188/200\n",
            "15131/15131 [==============================] - 0s 6us/step - loss: 0.4990 - acc: 0.7991 - val_loss: 1.2413 - val_acc: 0.5345\n",
            "\n",
            "Epoch 00188: val_acc did not improve from 0.55324\n",
            "Epoch 189/200\n",
            "15131/15131 [==============================] - 0s 7us/step - loss: 0.5016 - acc: 0.7997 - val_loss: 1.2408 - val_acc: 0.5324\n",
            "\n",
            "Epoch 00189: val_acc did not improve from 0.55324\n",
            "Epoch 190/200\n",
            "15131/15131 [==============================] - 0s 7us/step - loss: 0.5025 - acc: 0.7961 - val_loss: 1.2382 - val_acc: 0.5329\n",
            "\n",
            "Epoch 00190: val_acc did not improve from 0.55324\n",
            "Epoch 191/200\n",
            "15131/15131 [==============================] - 0s 6us/step - loss: 0.5001 - acc: 0.7990 - val_loss: 1.2438 - val_acc: 0.5292\n",
            "\n",
            "Epoch 00191: val_acc did not improve from 0.55324\n",
            "Epoch 192/200\n",
            "15131/15131 [==============================] - 0s 7us/step - loss: 0.5002 - acc: 0.7988 - val_loss: 1.2484 - val_acc: 0.5340\n",
            "\n",
            "Epoch 00192: val_acc did not improve from 0.55324\n",
            "Epoch 193/200\n",
            "15131/15131 [==============================] - 0s 7us/step - loss: 0.4968 - acc: 0.7970 - val_loss: 1.2414 - val_acc: 0.5308\n",
            "\n",
            "Epoch 00193: val_acc did not improve from 0.55324\n",
            "Epoch 194/200\n",
            "15131/15131 [==============================] - 0s 7us/step - loss: 0.4939 - acc: 0.8014 - val_loss: 1.2498 - val_acc: 0.5297\n",
            "\n",
            "Epoch 00194: val_acc did not improve from 0.55324\n",
            "Epoch 195/200\n",
            "15131/15131 [==============================] - 0s 6us/step - loss: 0.4983 - acc: 0.7973 - val_loss: 1.2568 - val_acc: 0.5324\n",
            "\n",
            "Epoch 00195: val_acc did not improve from 0.55324\n",
            "Epoch 196/200\n",
            "15131/15131 [==============================] - 0s 7us/step - loss: 0.4949 - acc: 0.7980 - val_loss: 1.2573 - val_acc: 0.5334\n",
            "\n",
            "Epoch 00196: val_acc did not improve from 0.55324\n",
            "Epoch 197/200\n",
            "15131/15131 [==============================] - 0s 7us/step - loss: 0.4879 - acc: 0.8054 - val_loss: 1.2622 - val_acc: 0.5340\n",
            "\n",
            "Epoch 00197: val_acc did not improve from 0.55324\n",
            "Epoch 198/200\n",
            "15131/15131 [==============================] - 0s 7us/step - loss: 0.4902 - acc: 0.8032 - val_loss: 1.2601 - val_acc: 0.5350\n",
            "\n",
            "Epoch 00198: val_acc did not improve from 0.55324\n",
            "Epoch 199/200\n",
            "15131/15131 [==============================] - 0s 6us/step - loss: 0.4927 - acc: 0.7992 - val_loss: 1.2648 - val_acc: 0.5329\n",
            "\n",
            "Epoch 00199: val_acc did not improve from 0.55324\n",
            "Epoch 200/200\n",
            "15131/15131 [==============================] - 0s 6us/step - loss: 0.4890 - acc: 0.8051 - val_loss: 1.2631 - val_acc: 0.5286\n",
            "\n",
            "Epoch 00200: val_acc did not improve from 0.55324\n"
          ],
          "name": "stdout"
        },
        {
          "output_type": "execute_result",
          "data": {
            "text/plain": [
              "<keras.callbacks.History at 0x7f776581b518>"
            ]
          },
          "metadata": {
            "tags": []
          },
          "execution_count": 105
        }
      ]
    },
    {
      "cell_type": "code",
      "metadata": {
        "id": "I9aCd--dkXQy",
        "colab_type": "code",
        "colab": {}
      },
      "source": [
        "model.load_weights(filepath)"
      ],
      "execution_count": 0,
      "outputs": []
    },
    {
      "cell_type": "code",
      "metadata": {
        "id": "-AyMeDiVkbmR",
        "colab_type": "code",
        "colab": {
          "base_uri": "https://localhost:8080/",
          "height": 34
        },
        "outputId": "d95b227d-10ed-4a15-f61f-415000b881cc"
      },
      "source": [
        "test_predictions = model.predict(test_embedding_)\n",
        "precision_recall_fscore_support(np.argmax(test_y,axis = 1),np.argmax(test_predictions,axis = 1),average='macro')"
      ],
      "execution_count": 108,
      "outputs": [
        {
          "output_type": "execute_result",
          "data": {
            "text/plain": [
              "(0.5685955675362454, 0.5431607887409783, 0.5503236012706578, None)"
            ]
          },
          "metadata": {
            "tags": []
          },
          "execution_count": 108
        }
      ]
    },
    {
      "cell_type": "code",
      "metadata": {
        "colab_type": "code",
        "id": "XqGUSCV9eVth",
        "colab": {}
      },
      "source": [
        "from sklearn.neighbors import *"
      ],
      "execution_count": 0,
      "outputs": []
    },
    {
      "cell_type": "markdown",
      "metadata": {
        "id": "OZAdwbzefTnk",
        "colab_type": "text"
      },
      "source": [
        "### Gaussian Bayes Classifier"
      ]
    },
    {
      "cell_type": "code",
      "metadata": {
        "colab_type": "code",
        "id": "qYREpwUyeVtb",
        "colab": {}
      },
      "source": [
        "from sklearn.naive_bayes import GaussianNB\n"
      ],
      "execution_count": 0,
      "outputs": []
    },
    {
      "cell_type": "code",
      "metadata": {
        "colab_type": "code",
        "id": "j8p5uu-MeVtZ",
        "colab": {}
      },
      "source": [
        "# trainpad = trainpad.reshape((-1,57))\n",
        "# testpad = testpad.reshape((-1,57))"
      ],
      "execution_count": 0,
      "outputs": []
    },
    {
      "cell_type": "code",
      "metadata": {
        "colab_type": "code",
        "outputId": "8c0ffa65-9b61-4bb6-cf5d-194350033a61",
        "id": "ng-PRTWleVtQ",
        "colab": {
          "base_uri": "https://localhost:8080/",
          "height": 34
        }
      },
      "source": [
        "model = GaussianNB()\n",
        "model.fit(train_embedding_, np.argmax(train_y,axis=1) )"
      ],
      "execution_count": 0,
      "outputs": [
        {
          "output_type": "execute_result",
          "data": {
            "text/plain": [
              "GaussianNB(priors=None, var_smoothing=1e-09)"
            ]
          },
          "metadata": {
            "tags": []
          },
          "execution_count": 44
        }
      ]
    },
    {
      "cell_type": "code",
      "metadata": {
        "colab_type": "code",
        "id": "PxaZ-fPEeVtD",
        "colab": {}
      },
      "source": [
        "test_predictions = model.predict(test_embedding_)"
      ],
      "execution_count": 0,
      "outputs": []
    },
    {
      "cell_type": "code",
      "metadata": {
        "colab_type": "code",
        "id": "VR0vQfNFeVs_",
        "colab": {}
      },
      "source": [
        "from sklearn.metrics import accuracy_score"
      ],
      "execution_count": 0,
      "outputs": []
    },
    {
      "cell_type": "code",
      "metadata": {
        "colab_type": "code",
        "outputId": "27b7dfe5-ad0c-4a79-c7d3-078e6d8d3a40",
        "id": "9g4Nle8MeVs8",
        "colab": {
          "base_uri": "https://localhost:8080/",
          "height": 34
        }
      },
      "source": [
        "accuracy_score(np.argmax(test_y,axis=1), test_predictions)"
      ],
      "execution_count": 0,
      "outputs": [
        {
          "output_type": "execute_result",
          "data": {
            "text/plain": [
              "0.5034777956126271"
            ]
          },
          "metadata": {
            "tags": []
          },
          "execution_count": 47
        }
      ]
    },
    {
      "cell_type": "code",
      "metadata": {
        "colab_type": "code",
        "outputId": "e65c3b86-cbe5-4f56-b892-81dfb6b42b54",
        "id": "HQNUUNLNeVs4",
        "colab": {
          "base_uri": "https://localhost:8080/",
          "height": 34
        }
      },
      "source": [
        "precision_recall_fscore_support(np.argmax(test_y,axis = 1),test_predictions,average='macro')"
      ],
      "execution_count": 0,
      "outputs": [
        {
          "output_type": "execute_result",
          "data": {
            "text/plain": [
              "(0.5125972811399809, 0.5018031028843198, 0.5015689418840493, None)"
            ]
          },
          "metadata": {
            "tags": []
          },
          "execution_count": 49
        }
      ]
    },
    {
      "cell_type": "markdown",
      "metadata": {
        "id": "oMFCz-TPfYNt",
        "colab_type": "text"
      },
      "source": [
        "### K-Nearest Neighbors Classifier"
      ]
    },
    {
      "cell_type": "code",
      "metadata": {
        "colab_type": "code",
        "outputId": "bcce4f4d-66be-45d8-89ea-6cb5ac895c4d",
        "id": "CS6MLARHeVs0",
        "colab": {
          "base_uri": "https://localhost:8080/",
          "height": 34
        }
      },
      "source": [
        "model = KNeighborsClassifier(n_neighbors=41)\n",
        "model.fit(train_embedding_, np.argmax(train_y,axis=1))\n",
        "test_predictions = model.predict(test_embedding_)\n",
        "accuracy_score(np.argmax(test_y,axis=1), test_predictions)"
      ],
      "execution_count": 0,
      "outputs": [
        {
          "output_type": "execute_result",
          "data": {
            "text/plain": [
              "0.48421615837346177"
            ]
          },
          "metadata": {
            "tags": []
          },
          "execution_count": 50
        }
      ]
    },
    {
      "cell_type": "code",
      "metadata": {
        "colab_type": "code",
        "outputId": "4b815d1d-8444-4996-e41c-853510b297d4",
        "id": "jQSsve6feVsu",
        "colab": {
          "base_uri": "https://localhost:8080/",
          "height": 34
        }
      },
      "source": [
        "precision_recall_fscore_support(np.argmax(test_y,axis = 1),test_predictions,average='macro')"
      ],
      "execution_count": 0,
      "outputs": [
        {
          "output_type": "execute_result",
          "data": {
            "text/plain": [
              "(0.5306511271845491, 0.44973814582686283, 0.4443692614133994, None)"
            ]
          },
          "metadata": {
            "tags": []
          },
          "execution_count": 51
        }
      ]
    },
    {
      "cell_type": "code",
      "metadata": {
        "colab_type": "code",
        "id": "l9QQzzBOeVsq",
        "colab": {}
      },
      "source": [
        ""
      ],
      "execution_count": 0,
      "outputs": []
    },
    {
      "cell_type": "code",
      "metadata": {
        "colab_type": "code",
        "outputId": "16e491e5-1556-493d-f367-fb1aafc89a79",
        "id": "ne2I-TVveVsl",
        "colab": {
          "base_uri": "https://localhost:8080/",
          "height": 880
        }
      },
      "source": [
        "from IPython.display import SVG\n",
        "from keras.utils import model_to_dot\n",
        "\n",
        "SVG(model_to_dot(model).create(prog='dot', format='svg'))"
      ],
      "execution_count": 109,
      "outputs": [
        {
          "output_type": "execute_result",
          "data": {
            "text/plain": [
              "<IPython.core.display.SVG object>"
            ],
            "image/svg+xml": "<svg height=\"644pt\" viewBox=\"0.00 0.00 188.00 483.00\" width=\"251pt\" xmlns=\"http://www.w3.org/2000/svg\" xmlns:xlink=\"http://www.w3.org/1999/xlink\">\n<g class=\"graph\" id=\"graph0\" transform=\"scale(1.3333 1.3333) rotate(0) translate(4 479)\">\n<title>G</title>\n<polygon fill=\"#ffffff\" points=\"-4,4 -4,-479 184,-479 184,4 -4,4\" stroke=\"transparent\"/>\n<!-- 140150790488752 -->\n<g class=\"node\" id=\"node1\">\n<title>140150790488752</title>\n<polygon fill=\"none\" points=\"0,-438.5 0,-474.5 180,-474.5 180,-438.5 0,-438.5\" stroke=\"#000000\"/>\n<text fill=\"#000000\" font-family=\"Times,serif\" font-size=\"14.00\" text-anchor=\"middle\" x=\"90\" y=\"-452.8\">dense_26_input: InputLayer</text>\n</g>\n<!-- 140150790488304 -->\n<g class=\"node\" id=\"node2\">\n<title>140150790488304</title>\n<polygon fill=\"none\" points=\"33,-365.5 33,-401.5 147,-401.5 147,-365.5 33,-365.5\" stroke=\"#000000\"/>\n<text fill=\"#000000\" font-family=\"Times,serif\" font-size=\"14.00\" text-anchor=\"middle\" x=\"90\" y=\"-379.8\">dense_26: Dense</text>\n</g>\n<!-- 140150790488752&#45;&gt;140150790488304 -->\n<g class=\"edge\" id=\"edge1\">\n<title>140150790488752-&gt;140150790488304</title>\n<path d=\"M90,-438.4551C90,-430.3828 90,-420.6764 90,-411.6817\" fill=\"none\" stroke=\"#000000\"/>\n<polygon fill=\"#000000\" points=\"93.5001,-411.5903 90,-401.5904 86.5001,-411.5904 93.5001,-411.5903\" stroke=\"#000000\"/>\n</g>\n<!-- 140150790488416 -->\n<g class=\"node\" id=\"node3\">\n<title>140150790488416</title>\n<polygon fill=\"none\" points=\"13,-292.5 13,-328.5 167,-328.5 167,-292.5 13,-292.5\" stroke=\"#000000\"/>\n<text fill=\"#000000\" font-family=\"Times,serif\" font-size=\"14.00\" text-anchor=\"middle\" x=\"90\" y=\"-306.8\">activation_9: Activation</text>\n</g>\n<!-- 140150790488304&#45;&gt;140150790488416 -->\n<g class=\"edge\" id=\"edge2\">\n<title>140150790488304-&gt;140150790488416</title>\n<path d=\"M90,-365.4551C90,-357.3828 90,-347.6764 90,-338.6817\" fill=\"none\" stroke=\"#000000\"/>\n<polygon fill=\"#000000\" points=\"93.5001,-338.5903 90,-328.5904 86.5001,-338.5904 93.5001,-338.5903\" stroke=\"#000000\"/>\n</g>\n<!-- 140150790489312 -->\n<g class=\"node\" id=\"node4\">\n<title>140150790489312</title>\n<polygon fill=\"none\" points=\"19.5,-219.5 19.5,-255.5 160.5,-255.5 160.5,-219.5 19.5,-219.5\" stroke=\"#000000\"/>\n<text fill=\"#000000\" font-family=\"Times,serif\" font-size=\"14.00\" text-anchor=\"middle\" x=\"90\" y=\"-233.8\">dropout_17: Dropout</text>\n</g>\n<!-- 140150790488416&#45;&gt;140150790489312 -->\n<g class=\"edge\" id=\"edge3\">\n<title>140150790488416-&gt;140150790489312</title>\n<path d=\"M90,-292.4551C90,-284.3828 90,-274.6764 90,-265.6817\" fill=\"none\" stroke=\"#000000\"/>\n<polygon fill=\"#000000\" points=\"93.5001,-265.5903 90,-255.5904 86.5001,-265.5904 93.5001,-265.5903\" stroke=\"#000000\"/>\n</g>\n<!-- 140150782127128 -->\n<g class=\"node\" id=\"node5\">\n<title>140150782127128</title>\n<polygon fill=\"none\" points=\"33,-146.5 33,-182.5 147,-182.5 147,-146.5 33,-146.5\" stroke=\"#000000\"/>\n<text fill=\"#000000\" font-family=\"Times,serif\" font-size=\"14.00\" text-anchor=\"middle\" x=\"90\" y=\"-160.8\">dense_27: Dense</text>\n</g>\n<!-- 140150790489312&#45;&gt;140150782127128 -->\n<g class=\"edge\" id=\"edge4\">\n<title>140150790489312-&gt;140150782127128</title>\n<path d=\"M90,-219.4551C90,-211.3828 90,-201.6764 90,-192.6817\" fill=\"none\" stroke=\"#000000\"/>\n<polygon fill=\"#000000\" points=\"93.5001,-192.5903 90,-182.5904 86.5001,-192.5904 93.5001,-192.5903\" stroke=\"#000000\"/>\n</g>\n<!-- 140150782126008 -->\n<g class=\"node\" id=\"node6\">\n<title>140150782126008</title>\n<polygon fill=\"none\" points=\"19.5,-73.5 19.5,-109.5 160.5,-109.5 160.5,-73.5 19.5,-73.5\" stroke=\"#000000\"/>\n<text fill=\"#000000\" font-family=\"Times,serif\" font-size=\"14.00\" text-anchor=\"middle\" x=\"90\" y=\"-87.8\">dropout_18: Dropout</text>\n</g>\n<!-- 140150782127128&#45;&gt;140150782126008 -->\n<g class=\"edge\" id=\"edge5\">\n<title>140150782127128-&gt;140150782126008</title>\n<path d=\"M90,-146.4551C90,-138.3828 90,-128.6764 90,-119.6817\" fill=\"none\" stroke=\"#000000\"/>\n<polygon fill=\"#000000\" points=\"93.5001,-119.5903 90,-109.5904 86.5001,-119.5904 93.5001,-119.5903\" stroke=\"#000000\"/>\n</g>\n<!-- 140150781768592 -->\n<g class=\"node\" id=\"node7\">\n<title>140150781768592</title>\n<polygon fill=\"none\" points=\"33,-.5 33,-36.5 147,-36.5 147,-.5 33,-.5\" stroke=\"#000000\"/>\n<text fill=\"#000000\" font-family=\"Times,serif\" font-size=\"14.00\" text-anchor=\"middle\" x=\"90\" y=\"-14.8\">dense_28: Dense</text>\n</g>\n<!-- 140150782126008&#45;&gt;140150781768592 -->\n<g class=\"edge\" id=\"edge6\">\n<title>140150782126008-&gt;140150781768592</title>\n<path d=\"M90,-73.4551C90,-65.3828 90,-55.6764 90,-46.6817\" fill=\"none\" stroke=\"#000000\"/>\n<polygon fill=\"#000000\" points=\"93.5001,-46.5903 90,-36.5904 86.5001,-46.5904 93.5001,-46.5903\" stroke=\"#000000\"/>\n</g>\n</g>\n</svg>"
          },
          "metadata": {
            "tags": []
          },
          "execution_count": 109
        }
      ]
    },
    {
      "cell_type": "code",
      "metadata": {
        "colab_type": "code",
        "outputId": "d30586c7-28bd-42ec-c7c1-ae530248f0f0",
        "id": "SfefFeyceVsg",
        "colab": {
          "base_uri": "https://localhost:8080/",
          "height": 754
        }
      },
      "source": [
        "from keras.utils import plot_model\n",
        "plot_model(model, to_file='model.png',show_shapes=True)"
      ],
      "execution_count": 110,
      "outputs": [
        {
          "output_type": "execute_result",
          "data": {
            "image/png": "[encoded data removed]",
            "text/plain": [
              "<IPython.core.display.Image object>"
            ]
          },
          "metadata": {
            "tags": []
          },
          "execution_count": 110
        }
      ]
    },
    {
      "cell_type": "code",
      "metadata": {
        "colab_type": "code",
        "id": "XrgRVxfxeVsb",
        "colab": {}
      },
      "source": [
        ""
      ],
      "execution_count": 0,
      "outputs": []
    }
  ]
}